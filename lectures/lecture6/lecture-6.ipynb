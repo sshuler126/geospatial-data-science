{
 "cells": [
  {
   "cell_type": "markdown",
   "id": "07476300",
   "metadata": {
    "slideshow": {
     "slide_type": "slide"
    }
   },
   "source": [
    "<CENTER>\n",
    "    <h1> Geospatial Data Science Applications: GEOG 4/590</h1>\n",
    "    <h3>Feb 7, 2022</h3>\n",
    "    <h2>Lecture 6: Code management</h2>\n",
    "    <img src=\"images/coding-computer-programming.jpeg\" width=\"300\"/>\n",
    "    <h3>Johnny Ryan: jryan4@uoregon.edu</h3>\n",
    "</CENTER>"
   ]
  },
  {
   "cell_type": "markdown",
   "id": "0f9e7503",
   "metadata": {
    "slideshow": {
     "slide_type": "slide"
    }
   },
   "source": [
    "## Content of this lecture\n",
    "\n",
    "* Version control systems\n",
    "<br>\n",
    "<br>\n",
    "* Git\n",
    "<br>\n",
    "<br>\n",
    "* Collaborating on `GitHub`\n",
    "<br>\n",
    "<br>\n",
    "* Background for this week's lab"
   ]
  },
  {
   "cell_type": "markdown",
   "id": "0479dc9a",
   "metadata": {
    "slideshow": {
     "slide_type": "slide"
    }
   },
   "source": [
    "<img src=\"images/version_control.png\" alt=\"https://phdcomics.com/comics/archive_print.php?comicid=1531\" width=\"400\"/>\n"
   ]
  },
  {
   "cell_type": "markdown",
   "id": "75b8a8eb",
   "metadata": {
    "slideshow": {
     "slide_type": "notes"
    }
   },
   "source": [
    "We've all been in this situation before: it seems unnecessary to have multiple nearly-identical versions of the same document. \n",
    "\n",
    "The danger of losing good versions often leads to the problematic workflow illustrated in the PhD Comics cartoon at the top of this page.\n",
    "\n",
    "Collaborative writing with traditional word processors is cumbersome. Either every collaborator has to work on a document sequentially (slowing down the process of writing), or you have to send out a version to all collaborators and manually merge their comments into your document. The 'track changes' option can highlight changes for you and simplifies merging, but as soon as you accept changes you will lose their history. You will then no longer know who suggested that change, why it was suggested, or when it was merged into the rest of the document.\n"
   ]
  },
  {
   "cell_type": "markdown",
   "id": "3af4bf90",
   "metadata": {
    "slideshow": {
     "slide_type": "slide"
    }
   },
   "source": [
    "## Version control\n",
    "\n",
    "\n",
    "* **Version control systems** (VCS) start with a **base version** of the document and then **keeps track of changes** you make each step of the way\n",
    "\n",
    "\n",
    "* VCS are essential for **developing software** and **carrying out projects** with a lot of code\n",
    "\n",
    "\n",
    "* VCS does not care about file names, intead records **who, what, when, and why** changes were made to files\n",
    "\n",
    "\n",
    "\n",
    "<img src=\"images/branch.svg\" width=\"600\"/>"
   ]
  },
  {
   "cell_type": "markdown",
   "id": "0514382b",
   "metadata": {
    "slideshow": {
     "slide_type": "slide"
    }
   },
   "source": [
    "## Git\n",
    "\n",
    "* One of the most popular VCS tools in use today is called `git`\n",
    "\n",
    "\n",
    "* It is a command-line tool that is installed locally \n",
    "\n",
    "\n",
    "* It is free and open-source software\n",
    "\n",
    "\n",
    "<img src=\"images/git.svg\" width=\"600\"/>\n"
   ]
  },
  {
   "cell_type": "markdown",
   "id": "0fb71530",
   "metadata": {
    "slideshow": {
     "slide_type": "slide"
    }
   },
   "source": [
    "## GitHub\n",
    "\n",
    "* **GitHub** is a web-based hosting service for `git`\n",
    "\n",
    "\n",
    "* Provides a graphical user interface\n",
    "\n",
    "\n",
    "* Maintained by Microsoft\n",
    "\n",
    "\n",
    "* There are other web-based hosting services (e.g. GitLab and Bitbucket)\n",
    "\n",
    "<img src=\"images/github.png\" width=\"200\"/>"
   ]
  },
  {
   "cell_type": "markdown",
   "id": "43675156",
   "metadata": {
    "slideshow": {
     "slide_type": "slide"
    }
   },
   "source": [
    "## Why do we use version control systems?\n"
   ]
  },
  {
   "cell_type": "markdown",
   "id": "3c2a856d",
   "metadata": {
    "slideshow": {
     "slide_type": "subslide"
    }
   },
   "source": [
    "### Security\n",
    "\n",
    "\n",
    "* VCS acts like an unlimited **'undo'** thereby **protecting source code** from yourself **and** others \n",
    "    \n",
    "    \n",
    "* e.g. catastrophe, human error, and unintended consequences\n",
    "\n",
    "\n",
    "<img src=\"images/hero.svg\" width=\"600\"/>"
   ]
  },
  {
   "cell_type": "markdown",
   "id": "94e8a0a6",
   "metadata": {
    "slideshow": {
     "slide_type": "subslide"
    }
   },
   "source": [
    "### Collaboration\n",
    "\n",
    "* VCS enables **many people** to work on the same project at the same time\n",
    "\n",
    "\n",
    "* Teams working in parallel accelerates project development\n",
    "\n",
    "<img src=\"images/colab.svg\" width=\"500\"/>"
   ]
  },
  {
   "cell_type": "markdown",
   "id": "2bdb1110",
   "metadata": {
    "slideshow": {
     "slide_type": "subslide"
    }
   },
   "source": [
    "### Community\n",
    "\n",
    "* Impossible for junior developer to mess up a big project \n",
    "\n",
    "\n",
    "* Since it is so robust this encourages open-source **experimentation** and **development**\n",
    "\n",
    "\n",
    "* `GitHub` has really emerged as the industry standard\n",
    "\n",
    "\n",
    "<img src=\"images/pull.svg\" width=\"500\"/>\n"
   ]
  },
  {
   "cell_type": "markdown",
   "id": "e823c6b4",
   "metadata": {
    "slideshow": {
     "slide_type": "slide"
    }
   },
   "source": [
    "## Drawbacks of version control\n",
    "\n",
    "* Difficult to learn\n",
    "\n",
    "<img src=\"images/meme.jpeg\" width=\"600\"/>\n"
   ]
  },
  {
   "cell_type": "markdown",
   "id": "98aee8be",
   "metadata": {
    "slideshow": {
     "slide_type": "slide"
    }
   },
   "source": [
    "## What have we been doing so far?\n",
    "\n",
    "<img src=\"images/gds_page.png\" width=\"1000\"/>"
   ]
  },
  {
   "cell_type": "markdown",
   "id": "47996fc4",
   "metadata": {
    "slideshow": {
     "slide_type": "slide"
    }
   },
   "source": [
    "<img src=\"images/git-fork-clone-flow.png\" width=\"600\"/>"
   ]
  },
  {
   "cell_type": "markdown",
   "id": "ebdb159b",
   "metadata": {
    "slideshow": {
     "slide_type": "slide"
    }
   },
   "source": [
    "## Some key terms"
   ]
  },
  {
   "cell_type": "markdown",
   "id": "afc07561",
   "metadata": {
    "slideshow": {
     "slide_type": "subslide"
    }
   },
   "source": [
    "### Fork\n",
    "\n",
    "* Copy a repository to your GitHub.com account\n",
    "\n",
    "\n",
    "* Used to either propose changes to someone else's project or to use someone else's project as a starting point for your own idea\n",
    "\n",
    "\n",
    "### Clone\n",
    "\n",
    "* Retrieve a repository from **GitHub.com** to **local machine**"
   ]
  },
  {
   "cell_type": "markdown",
   "id": "d8598b07",
   "metadata": {
    "slideshow": {
     "slide_type": "subslide"
    }
   },
   "source": [
    "### Add \n",
    "\n",
    "\n",
    "### Commit\n",
    "\n",
    "* Commit your staged content as a new **snapshot**"
   ]
  },
  {
   "cell_type": "markdown",
   "id": "b7c1a011",
   "metadata": {
    "slideshow": {
     "slide_type": "subslide"
    }
   },
   "source": [
    "### Push"
   ]
  },
  {
   "cell_type": "markdown",
   "id": "553ac8d4",
   "metadata": {
    "slideshow": {
     "slide_type": "subslide"
    }
   },
   "source": [
    "### Merge\n",
    "\n",
    "\n",
    "### Fetch\n",
    "\n",
    "\n",
    "### Pull"
   ]
  },
  {
   "cell_type": "markdown",
   "id": "1c551833",
   "metadata": {
    "slideshow": {
     "slide_type": "slide"
    }
   },
   "source": [
    "## Collaborating with GitHub"
   ]
  },
  {
   "cell_type": "markdown",
   "id": "92206d99",
   "metadata": {},
   "source": [
    "### Centralized workflow\n",
    "\n",
    "<img src=\"images/colab.svg\" width=\"600\"/>"
   ]
  },
  {
   "cell_type": "markdown",
   "id": "9bbca0a1",
   "metadata": {},
   "source": [
    "### Feature branch workflow\n",
    "\n",
    "\n"
   ]
  },
  {
   "cell_type": "markdown",
   "id": "554137c9",
   "metadata": {},
   "source": [
    "### Fork-branch workflow\n",
    "\n"
   ]
  },
  {
   "cell_type": "markdown",
   "id": "b10c48a4",
   "metadata": {},
   "source": [
    "### Other workflows"
   ]
  },
  {
   "cell_type": "markdown",
   "id": "6b653c78",
   "metadata": {
    "slideshow": {
     "slide_type": "slide"
    }
   },
   "source": [
    "## Good practices"
   ]
  },
  {
   "cell_type": "markdown",
   "id": "19cff11f",
   "metadata": {
    "slideshow": {
     "slide_type": "subslide"
    }
   },
   "source": [
    "### Commit often\n",
    "\n",
    "\n",
    "* Each commit is a snapshot that the codebase can be reverted to if needed. \n",
    "\n",
    "\n",
    "* Commits are cheap and easy to make. \n",
    "\n",
    "\n",
    "* They should be made frequently to capture updates to a code base. \n",
    "\n",
    "\n",
    "* Frequent commits give many opportunities to revert or undo work."
   ]
  },
  {
   "cell_type": "markdown",
   "id": "099430a1",
   "metadata": {
    "slideshow": {
     "slide_type": "subslide"
    }
   },
   "source": [
    "### Ensure you're working from latest version\n",
    "\n",
    "\n",
    "* VCS enables rapid updates from multiple developers. \n",
    "\n",
    "\n",
    "\n",
    "* It’s easy to have a local copy of the codebase fall behind the global copy. \n",
    "\n",
    "\n",
    "* Make sure to `git pull` or `fetch` the latest code before making updates. This will help avoid conflicts at merge time."
   ]
  },
  {
   "cell_type": "markdown",
   "id": "bf1d2fab",
   "metadata": {
    "slideshow": {
     "slide_type": "subslide"
    }
   },
   "source": [
    "### Make detailed notes\n",
    "\n",
    "* Each commit has a corresponding log entry. \n",
    "\n",
    "\n",
    "* At the time of commit creation, this log entry is populated with a message. \n",
    "\n",
    "\n",
    "* It is important to leave descriptive explanatory commit log messages. These commit log messages should explain the \"why\" and \"what\" that encompass the commits content. \n",
    "\n",
    "\n",
    "* These log messages become the canonical history of the project’s development and leave a trail for future contributors to review."
   ]
  },
  {
   "cell_type": "markdown",
   "id": "0d207c9b",
   "metadata": {
    "slideshow": {
     "slide_type": "subslide"
    }
   },
   "source": [
    "### Review changes before committing\n",
    "\n",
    "\n",
    "* VCS offers a 'staging area'. \n",
    "\n",
    "\n",
    "* The staging area can be used to collect a group of edits before writing them to a commit. \n",
    "\n",
    "\n",
    "\n",
    "* The staging area can be used to manage and review changes before creating the commit snapshot. \n",
    "\n",
    "\n",
    "\n",
    "* Utilizing the staging area in this manner provides a buffer area to help refine the contents of the commit.\n",
    "\n"
   ]
  },
  {
   "cell_type": "markdown",
   "id": "05afbf4d",
   "metadata": {
    "slideshow": {
     "slide_type": "subslide"
    }
   },
   "source": [
    "### Use branches\n",
    "\n",
    "\n",
    "* Branching is a powerful VCS mechanism that allows developers to create a separate line of development. \n",
    "\n",
    "\n",
    "* Branches should be used frequently as they are quick and inexpensive. \n",
    "\n",
    "\n",
    "* Branches enable multiple developers to work in parallel on separate lines of development. \n",
    "\n",
    "\n",
    "* These lines of development are generally different product features. \n",
    "\n",
    "\n",
    "* When development is complete on a branch it is then merged into the main line of development."
   ]
  },
  {
   "cell_type": "markdown",
   "id": "a531511e",
   "metadata": {
    "slideshow": {
     "slide_type": "subslide"
    }
   },
   "source": [
    "### Agree on a workflow\n",
    "\n",
    "* By default VCS offers very free form methods of contribution.\n",
    "\n",
    "\n",
    "* It is important that teams establish shared patterns of collaboration. \n",
    "\n",
    "\n",
    "\n",
    "* VCS workflows establish patterns and processes for merging branches.\n",
    "\n",
    "\n",
    "\n",
    "* If a team doesn't agree on a shared workflow it can lead to inefficient communication overhead when it comes time to merge branches."
   ]
  },
  {
   "cell_type": "markdown",
   "id": "5cb6338b",
   "metadata": {},
   "source": [
    "## Git workflows\n",
    "\n"
   ]
  }
 ],
 "metadata": {
  "celltoolbar": "Slideshow",
  "kernelspec": {
   "display_name": "Python 3 (ipykernel)",
   "language": "python",
   "name": "python3"
  },
  "language_info": {
   "codemirror_mode": {
    "name": "ipython",
    "version": 3
   },
   "file_extension": ".py",
   "mimetype": "text/x-python",
   "name": "python",
   "nbconvert_exporter": "python",
   "pygments_lexer": "ipython3",
   "version": "3.9.7"
  }
 },
 "nbformat": 4,
 "nbformat_minor": 5
}
