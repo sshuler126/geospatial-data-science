{
 "cells": [
  {
   "cell_type": "markdown",
   "id": "b0da2062",
   "metadata": {},
   "source": [
    "**Question One**"
   ]
  },
  {
   "cell_type": "code",
   "execution_count": 45,
   "id": "4d3b3170",
   "metadata": {},
   "outputs": [],
   "source": [
    "#Import libraries\n",
    "import pandas as pd\n",
    "import numpy as np\n",
    "import geopandas as gpd\n",
    "import matplotlib.pyplot as plt\n",
    "from sklearn.preprocessing import StandardScaler\n",
    "from sklearn.model_selection import train_test_split\n",
    "from sklearn.ensemble import RandomForestRegressor\n",
    "from sklearn.metrics import mean_squared_error\n",
    "import math\n",
    "from shapely.geometry import Point\n",
    "import geopy.distance\n",
    "import pyproj\n",
    "import os\n",
    "from math import radians, cos, sin, asin, sqrt"
   ]
  },
  {
   "cell_type": "code",
   "execution_count": 46,
   "id": "8ea9d672",
   "metadata": {
    "scrolled": true
   },
   "outputs": [
    {
     "name": "stdout",
     "output_type": "stream",
     "text": [
      "There are 19451 houses in this dataset\n"
     ]
    }
   ],
   "source": [
    "# Import data\n",
    "\n",
    "df = pd.read_csv('/Users/sshul/Documents/GitHub/geospatial-data-science/labs/lab5/lab5/seattle_house_prices.csv')\n",
    "\n",
    "houses = len(df)\n",
    "print(f'There are {houses} houses in this dataset')"
   ]
  },
  {
   "cell_type": "code",
   "execution_count": 47,
   "id": "bfc82c8e",
   "metadata": {},
   "outputs": [
    {
     "data": {
      "text/plain": [
       "Index(['price', 'bedrooms', 'bathrooms', 'sqft_living', 'sqft_lot', 'yr_built',\n",
       "       'lat', 'long'],\n",
       "      dtype='object')"
      ]
     },
     "execution_count": 47,
     "metadata": {},
     "output_type": "execute_result"
    }
   ],
   "source": [
    "df.columns"
   ]
  },
  {
   "cell_type": "code",
   "execution_count": 48,
   "id": "daa2383a",
   "metadata": {},
   "outputs": [],
   "source": [
    "#Convert DataFreame to GeoDataFrame\n",
    "gdf = gpd.GeoDataFrame(df, geometry=gpd.points_from_xy(df['long'], df['lat']))\n",
    "gdf.crs = \"EPSG:4326\"\n",
    "gdf_utm = gdf.to_crs('EPSG:32610')"
   ]
  },
  {
   "cell_type": "code",
   "execution_count": 49,
   "id": "097f6f90",
   "metadata": {},
   "outputs": [
    {
     "name": "stdout",
     "output_type": "stream",
     "text": [
      "<class 'geopandas.geodataframe.GeoDataFrame'>\n",
      "RangeIndex: 19451 entries, 0 to 19450\n",
      "Data columns (total 9 columns):\n",
      " #   Column       Non-Null Count  Dtype   \n",
      "---  ------       --------------  -----   \n",
      " 0   price        19451 non-null  int64   \n",
      " 1   bedrooms     19451 non-null  int64   \n",
      " 2   bathrooms    19451 non-null  float64 \n",
      " 3   sqft_living  19451 non-null  int64   \n",
      " 4   sqft_lot     19451 non-null  int64   \n",
      " 5   yr_built     19451 non-null  int64   \n",
      " 6   lat          19451 non-null  float64 \n",
      " 7   long         19451 non-null  float64 \n",
      " 8   geometry     19451 non-null  geometry\n",
      "dtypes: float64(3), geometry(1), int64(5)\n",
      "memory usage: 1.3 MB\n",
      "There are six features for predicting price: number of bedrooms, number \n",
      " of bathrooms, square feet of livingspace, total square feet, year built, \n",
      " and location.\n",
      "There are not any null values.\n"
     ]
    }
   ],
   "source": [
    "gdf_utm.info()\n",
    "print(f'There are six features for predicting price: number of bedrooms, number \\n of bathrooms, square feet of livingspace, total square feet, year built, \\n and location.')\n",
    "print('There are not any null values.')"
   ]
  },
  {
   "cell_type": "code",
   "execution_count": 50,
   "id": "9f0e68f6",
   "metadata": {},
   "outputs": [
    {
     "data": {
      "text/plain": [
       "price          1.000000\n",
       "sqft_living    0.702296\n",
       "bathrooms      0.524395\n",
       "bedrooms       0.315804\n",
       "lat            0.308082\n",
       "sqft_lot       0.090125\n",
       "yr_built       0.052453\n",
       "long           0.020092\n",
       "Name: price, dtype: float64"
      ]
     },
     "execution_count": 50,
     "metadata": {},
     "output_type": "execute_result"
    }
   ],
   "source": [
    "# Compute correlation matrix\n",
    "corr_matrix = gdf_utm.corr()\n",
    "\n",
    "# Display just house value correlations\n",
    "corr_matrix['price'].sort_values(ascending = False)"
   ]
  },
  {
   "cell_type": "code",
   "execution_count": 51,
   "id": "3532d4d6",
   "metadata": {},
   "outputs": [
    {
     "name": "stdout",
     "output_type": "stream",
     "text": [
      "The three best correlated values with the housing price \n",
      "are square feet of livingspace (.702), number of bathrooms (.524), and \n",
      "number of bedrooms (.315). The three worst correlated variables are \n",
      "square feet of the lot (.09), year built (.05), and location (.308 lat, \n",
      ".02 lon).\n"
     ]
    }
   ],
   "source": [
    "answer = f'''The three best correlated values with the housing price \n",
    "are square feet of livingspace (.702), number of bathrooms (.524), and \n",
    "number of bedrooms (.315). The three worst correlated variables are \n",
    "square feet of the lot (.09), year built (.05), and location (.308 lat, \n",
    ".02 lon).'''\n",
    "print(answer)"
   ]
  },
  {
   "cell_type": "markdown",
   "id": "bafd2004",
   "metadata": {},
   "source": [
    "**Question Two** use distance to location potentially"
   ]
  },
  {
   "cell_type": "markdown",
   "id": "7213132d",
   "metadata": {},
   "source": [
    "(alterations)"
   ]
  },
  {
   "cell_type": "code",
   "execution_count": 52,
   "id": "77de2b45",
   "metadata": {},
   "outputs": [],
   "source": [
    "# Prepare datasets\n",
    "parksfilepath = 'lab5\\ToUpload\\Seattle_Parks_and_Recreation_Parks_Features.csv' \n",
    "dfparks = pd.read_csv(parksfilepath)\n",
    "dfparks = dfparks[dfparks['xPos'].notna()]\n",
    "dfparks = dfparks[dfparks['yPos'].notna()]\n",
    "\n",
    "hospitalsfilepath = 'lab5\\ToUpload\\Hospitals.csv'\n",
    "df_hospitals = pd.read_csv(hospitalsfilepath)\n",
    "wa_hospitals = df_hospitals.loc[df_hospitals['STATE'] == 'WA']\n",
    "wa_hospitals = wa_hospitals.reset_index(drop=True)\n",
    "\n",
    "schoolsfilepath = 'lab5\\ToUpload\\Public_Schools.csv'\n",
    "df_schools = pd.read_csv(schoolsfilepath)\n",
    "wa_schools = df_schools.loc[df_schools['STATE'] == 'WA']\n",
    "wa_schools = wa_schools.reset_index(drop=True)"
   ]
  },
  {
   "cell_type": "code",
   "execution_count": 53,
   "id": "4e265711",
   "metadata": {},
   "outputs": [],
   "source": [
    "## All functions\n",
    "\n",
    "    #distance functions\n",
    "    \n",
    "def distance_to_place(pcoords):\n",
    "    '''\n",
    "    This function will calculate the distance of each house in gdf_utm to a given place and return a list of \n",
    "    each distance in kilometers\n",
    "    '''\n",
    "    dist = []\n",
    "    numdist = []\n",
    "    \n",
    "    for loc in gdf_utm['coords']:\n",
    "        d = geopy.distance.distance(pcoords, loc)\n",
    "        dist.append(d)\n",
    "        \n",
    "    for item in dist:\n",
    "        numdist.append(float((str(item).split(' ')[0])))\n",
    "        \n",
    "    return numdist\n",
    "\n",
    "\n",
    "def dist(hloc, ploc):\n",
    "    '''This function will calculate the geodesic distance between the given house and the given place'''\n",
    "    \n",
    "    # convert decimal degrees to radians \n",
    "    hlat = float(hloc[0])\n",
    "    hlon = float(hloc[1])\n",
    "    plat = float(ploc[0])\n",
    "    plon = float(ploc[1])\n",
    "    \n",
    "    hlat, hlon, plat, plon = map(radians, [hlat, hlon, plat, plon])\n",
    "\n",
    "    # haversine formula \n",
    "    dlon = plon - hlon\n",
    "    dlat = plat - hlat\n",
    "\n",
    "    a = sin(dlat/2)**2 + cos(hlat) * cos(plat) * sin(dlon/2)**2\n",
    "    c = 2 * asin(sqrt(a))\n",
    "\n",
    "    # Radius of earth in kilometers is 6371\n",
    "    km = 6371* c\n",
    "    return km\n",
    "\n",
    "\n",
    "def get_pdist(dfr):\n",
    "    ''' This function will calculate the distance from the house to its closest park'''\n",
    "    distlist = []\n",
    "    \n",
    "    for parkloc in dfparks['coords']:\n",
    "        d = dist(dfr['coords'], parkloc)\n",
    "        distlist.append(d)\n",
    "        \n",
    "    m = min(distlist)\n",
    "        \n",
    "    return m\n",
    "\n",
    "\n",
    "def get_hdist(dfr):\n",
    "    ''' This function will calculate the distance from the house to its closest hospital'''\n",
    "    distlist = []\n",
    "    \n",
    "    for hosloc in wa_hospitals['coords']:\n",
    "        d = dist(dfr['coords'], hosloc)\n",
    "        distlist.append(d)\n",
    "        \n",
    "    m = min(distlist)\n",
    "        \n",
    "    return m\n",
    "\n",
    "\n",
    "def get_sdist(dfr):\n",
    "    '''This function will calculate the distance from the house to its closest school'''\n",
    "    distlist = []\n",
    "    \n",
    "    for schloc in wa_schools['coords']:\n",
    "        d = dist(dfr['coords'], schloc)\n",
    "        distlist.append(d)\n",
    "        \n",
    "    m = min(distlist)\n",
    "        \n",
    "    return m\n",
    "\n",
    "\n",
    "    #coordinate functions\n",
    "    \n",
    "def coords(df_row):\n",
    "    '''This function will create a tuple in the format (lat, lon) of the coordinates of each house.'''\n",
    "    new = (df_row['lat'], df_row['long'])\n",
    "    return new\n",
    "\n",
    "\n",
    "def pcoords(dfr):\n",
    "    '''This function will create a tuple in the format (lat, lon) of the coordinates of each park.'''\n",
    "    new = (dfr['yPos'], dfr['xPos'])\n",
    "    return new\n",
    "\n",
    "\n",
    "def hcoords(dfr):\n",
    "    '''This function will create a tuple in the format (lat, lon) of the coordinates of each hospital.'''\n",
    "    new = (dfr['Y'], dfr['X'])\n",
    "    return new\n",
    "\n",
    "\n",
    "def scoords(dfr):\n",
    "    '''This function will create a tuple in the format (lat, lon) of the coordinates of each school.'''\n",
    "    new = (dfr['Y'], dfr['X'])\n",
    "    return new"
   ]
  },
  {
   "cell_type": "code",
   "execution_count": 54,
   "id": "beec6970",
   "metadata": {},
   "outputs": [],
   "source": [
    "#Add column of lat,lon points as tuples to each dataset for future ease of use\n",
    "\n",
    "gdf_utm['coords'] = df.apply(coords, axis=1)\n",
    "dfparks['coords'] = dfparks.apply(pcoords, axis=1)\n",
    "wa_hospitals['coords'] = wa_hospitals.apply(hcoords, axis=1)\n",
    "wa_schools['coords'] = wa_schools.apply(scoords, axis=1)"
   ]
  },
  {
   "cell_type": "code",
   "execution_count": 55,
   "id": "98c9d7a5",
   "metadata": {
    "scrolled": true
   },
   "outputs": [],
   "source": [
    "# Use fuction distance_to_place to get the km value of the distance from each house to the space needle, Seattle international airport, and City Hall.\n",
    "\n",
    "dist_sn = distance_to_place((47.6205, -122.3493))\n",
    "gdf_utm['dist_sn'] = dist_sn\n",
    "\n",
    "dist_SEA = distance_to_place((47.438375, -122.294915))\n",
    "gdf_utm['dist_SEA'] = dist_SEA\n",
    "\n",
    "dist_ch = distance_to_place((47.603816, -122.329878))\n",
    "gdf_utm['dist_ch'] = dist_ch"
   ]
  },
  {
   "cell_type": "code",
   "execution_count": 56,
   "id": "399e6e7b",
   "metadata": {},
   "outputs": [],
   "source": [
    "#Get distance to closest park, hospital, and school\n",
    "# THIS STEP WILL TAKE A WHILE, I PROMISE IT IS STILL WORKING\n",
    "\n",
    "gdf_utm['min_park'] = gdf_utm.apply(get_pdist, axis=1)\n",
    "gdf_utm['min_hospital'] = gdf_utm.apply(get_hdist, axis=1) \n",
    "gdf_utm['min_school'] = gdf_utm.apply(get_sdist, axis=1)  "
   ]
  },
  {
   "cell_type": "markdown",
   "id": "d43a9788",
   "metadata": {},
   "source": [
    "(model)"
   ]
  },
  {
   "cell_type": "code",
   "execution_count": 67,
   "id": "7c861893",
   "metadata": {},
   "outputs": [],
   "source": [
    "# Define feature list\n",
    "feature_list =  ['sqft_living', 'bathrooms', 'bedrooms', \n",
    "                 'lat', 'sqft_lot', 'yr_built', 'long', 'dist_sn', 'dist_SEA',\n",
    "                 'dist_ch', 'min_park', 'min_school', 'min_hospital']\n",
    "\n",
    "# Define features and labels \n",
    "X = gdf_utm[feature_list]\n",
    "y = gdf_utm['price']\n",
    "\n",
    "# Standarize data\n",
    "scaler = StandardScaler()  \n",
    "X_scaled = scaler.fit_transform(X)"
   ]
  },
  {
   "cell_type": "code",
   "execution_count": 68,
   "id": "53c4243d",
   "metadata": {},
   "outputs": [],
   "source": [
    "# Split data \n",
    "X_train, X_test, y_train, y_test = train_test_split(X_scaled, y, test_size=0.2, random_state=42)"
   ]
  },
  {
   "cell_type": "code",
   "execution_count": 69,
   "id": "0ec3dfed",
   "metadata": {},
   "outputs": [
    {
     "data": {
      "text/plain": [
       "RandomForestRegressor(n_estimators=30)"
      ]
     },
     "execution_count": 69,
     "metadata": {},
     "output_type": "execute_result"
    }
   ],
   "source": [
    "# Define model\n",
    "forest_reg = RandomForestRegressor(n_estimators = 30)\n",
    "\n",
    "# Fit model\n",
    "forest_reg.fit(X_train, y_train)"
   ]
  },
  {
   "cell_type": "markdown",
   "id": "dc4405c4",
   "metadata": {},
   "source": [
    "(model evaluation)"
   ]
  },
  {
   "cell_type": "code",
   "execution_count": 70,
   "id": "50e8ac32",
   "metadata": {},
   "outputs": [
    {
     "data": {
      "text/plain": [
       "154296.18752387114"
      ]
     },
     "execution_count": 70,
     "metadata": {},
     "output_type": "execute_result"
    }
   ],
   "source": [
    "# Predict test labels predictions\n",
    "predictions = forest_reg.predict(X_test)\n",
    "\n",
    "# Compute mean-squared-error\n",
    "final_mse = mean_squared_error(y_test , predictions)\n",
    "final_rmse = np.sqrt(final_mse)\n",
    "final_rmse"
   ]
  },
  {
   "cell_type": "code",
   "execution_count": 71,
   "id": "79306f21",
   "metadata": {},
   "outputs": [
    {
     "data": {
      "text/plain": [
       "price           1.000000\n",
       "sqft_living     0.702296\n",
       "bathrooms       0.524395\n",
       "bedrooms        0.315804\n",
       "lat             0.308082\n",
       "dist_SEA        0.170298\n",
       "sqft_lot        0.090125\n",
       "min_school      0.064401\n",
       "yr_built        0.052453\n",
       "long            0.020092\n",
       "min_hospital   -0.107419\n",
       "min_park       -0.187057\n",
       "dist_ch        -0.288018\n",
       "dist_sn        -0.291519\n",
       "Name: price, dtype: float64"
      ]
     },
     "execution_count": 71,
     "metadata": {},
     "output_type": "execute_result"
    }
   ],
   "source": [
    "# Compute correlation matrix\n",
    "corr_matrix = gdf_utm.corr()\n",
    "\n",
    "# Display just house value correlations\n",
    "corr_matrix['price'].sort_values(ascending = False)"
   ]
  },
  {
   "cell_type": "code",
   "execution_count": null,
   "id": "52ac59a2",
   "metadata": {},
   "outputs": [],
   "source": []
  }
 ],
 "metadata": {
  "kernelspec": {
   "display_name": "Python 3 (ipykernel)",
   "language": "python",
   "name": "python3"
  },
  "language_info": {
   "codemirror_mode": {
    "name": "ipython",
    "version": 3
   },
   "file_extension": ".py",
   "mimetype": "text/x-python",
   "name": "python",
   "nbconvert_exporter": "python",
   "pygments_lexer": "ipython3",
   "version": "3.8.12"
  }
 },
 "nbformat": 4,
 "nbformat_minor": 5
}
