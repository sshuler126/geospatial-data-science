{
 "cells": [
  {
   "cell_type": "markdown",
   "id": "9278e9c1",
   "metadata": {},
   "source": [
    "Task One:"
   ]
  },
  {
   "cell_type": "code",
   "execution_count": 4,
   "id": "a4350f89",
   "metadata": {},
   "outputs": [
    {
     "name": "stdout",
     "output_type": "stream",
     "text": [
      "18\n"
     ]
    }
   ],
   "source": [
    "import numpy as np\n",
    "a = 3\n",
    "b = 6\n",
    "c = np.multiply(a, b)\n",
    "print(c)"
   ]
  },
  {
   "cell_type": "markdown",
   "id": "6a7e6cd7",
   "metadata": {},
   "source": [
    "Task Two:"
   ]
  },
  {
   "cell_type": "markdown",
   "id": "d9f79823",
   "metadata": {},
   "source": [
    "![Rocky Mountain National Park](inspiring_image.jpg)\n",
    "**Rocky Mountain National Park** - \n",
    "*Colorado, USA*\n",
    "https://www.iexplore.com/experiences/the-great-outdoors/experiences/summer-adventure-destinations/articles/national-parks-colorado-utah"
   ]
  },
  {
   "cell_type": "code",
   "execution_count": null,
   "id": "2fedc954",
   "metadata": {},
   "outputs": [],
   "source": []
  }
 ],
 "metadata": {
  "kernelspec": {
   "display_name": "Python 3 (ipykernel)",
   "language": "python",
   "name": "python3"
  },
  "language_info": {
   "codemirror_mode": {
    "name": "ipython",
    "version": 3
   },
   "file_extension": ".py",
   "mimetype": "text/x-python",
   "name": "python",
   "nbconvert_exporter": "python",
   "pygments_lexer": "ipython3",
   "version": "3.8.12"
  }
 },
 "nbformat": 4,
 "nbformat_minor": 5
}
