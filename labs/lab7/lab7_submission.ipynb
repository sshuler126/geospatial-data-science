{
 "cells": [
  {
   "cell_type": "markdown",
   "id": "bcd2b6da",
   "metadata": {},
   "source": [
    "**Question One**"
   ]
  },
  {
   "cell_type": "code",
   "execution_count": 1,
   "id": "9346472d",
   "metadata": {},
   "outputs": [
    {
     "name": "stdout",
     "output_type": "stream",
     "text": [
      "Requirement already satisfied: dataretrieval in c:\\users\\sshul\\anaconda3\\envs\\lab7\\lib\\site-packages (0.7)\n",
      "Requirement already satisfied: requests in c:\\users\\sshul\\anaconda3\\envs\\lab7\\lib\\site-packages (from dataretrieval) (2.27.1)\n",
      "Requirement already satisfied: pandas in c:\\users\\sshul\\anaconda3\\envs\\lab7\\lib\\site-packages (from dataretrieval) (1.4.1)\n",
      "Requirement already satisfied: python-dateutil>=2.8.1 in c:\\users\\sshul\\anaconda3\\envs\\lab7\\lib\\site-packages (from pandas->dataretrieval) (2.8.2)\n",
      "Requirement already satisfied: pytz>=2020.1 in c:\\users\\sshul\\anaconda3\\envs\\lab7\\lib\\site-packages (from pandas->dataretrieval) (2021.3)\n",
      "Requirement already satisfied: numpy>=1.18.5 in c:\\users\\sshul\\anaconda3\\envs\\lab7\\lib\\site-packages (from pandas->dataretrieval) (1.22.2)\n",
      "Requirement already satisfied: idna<4,>=2.5 in c:\\users\\sshul\\anaconda3\\envs\\lab7\\lib\\site-packages (from requests->dataretrieval) (3.3)\n",
      "Requirement already satisfied: urllib3<1.27,>=1.21.1 in c:\\users\\sshul\\anaconda3\\envs\\lab7\\lib\\site-packages (from requests->dataretrieval) (1.26.8)\n",
      "Requirement already satisfied: certifi>=2017.4.17 in c:\\users\\sshul\\anaconda3\\envs\\lab7\\lib\\site-packages (from requests->dataretrieval) (2021.10.8)\n",
      "Requirement already satisfied: charset-normalizer~=2.0.0 in c:\\users\\sshul\\anaconda3\\envs\\lab7\\lib\\site-packages (from requests->dataretrieval) (2.0.12)\n",
      "Requirement already satisfied: six>=1.5 in c:\\users\\sshul\\anaconda3\\envs\\lab7\\lib\\site-packages (from python-dateutil>=2.8.1->pandas->dataretrieval) (1.16.0)\n"
     ]
    }
   ],
   "source": [
    "# Install package for obtaining USGS streamflow data\n",
    "!pip install -U dataretrieval"
   ]
  },
  {
   "cell_type": "code",
   "execution_count": 6,
   "id": "020131cc",
   "metadata": {},
   "outputs": [
    {
     "data": {
      "text/html": [
       "<div>\n",
       "<style scoped>\n",
       "    .dataframe tbody tr th:only-of-type {\n",
       "        vertical-align: middle;\n",
       "    }\n",
       "\n",
       "    .dataframe tbody tr th {\n",
       "        vertical-align: top;\n",
       "    }\n",
       "\n",
       "    .dataframe thead th {\n",
       "        text-align: right;\n",
       "    }\n",
       "</style>\n",
       "<table border=\"1\" class=\"dataframe\">\n",
       "  <thead>\n",
       "    <tr style=\"text-align: right;\">\n",
       "      <th></th>\n",
       "      <th>00060_Mean</th>\n",
       "      <th>00060_Mean_cd</th>\n",
       "      <th>site_no</th>\n",
       "    </tr>\n",
       "    <tr>\n",
       "      <th>datetime</th>\n",
       "      <th></th>\n",
       "      <th></th>\n",
       "      <th></th>\n",
       "    </tr>\n",
       "  </thead>\n",
       "  <tbody>\n",
       "    <tr>\n",
       "      <th>2021-01-01 00:00:00+00:00</th>\n",
       "      <td>495.0</td>\n",
       "      <td>A, e</td>\n",
       "      <td>08329918</td>\n",
       "    </tr>\n",
       "    <tr>\n",
       "      <th>2021-01-02 00:00:00+00:00</th>\n",
       "      <td>498.0</td>\n",
       "      <td>A, e</td>\n",
       "      <td>08329918</td>\n",
       "    </tr>\n",
       "    <tr>\n",
       "      <th>2021-01-03 00:00:00+00:00</th>\n",
       "      <td>502.0</td>\n",
       "      <td>A, e</td>\n",
       "      <td>08329918</td>\n",
       "    </tr>\n",
       "    <tr>\n",
       "      <th>2021-01-04 00:00:00+00:00</th>\n",
       "      <td>499.0</td>\n",
       "      <td>A, e</td>\n",
       "      <td>08329918</td>\n",
       "    </tr>\n",
       "    <tr>\n",
       "      <th>2021-01-05 00:00:00+00:00</th>\n",
       "      <td>499.0</td>\n",
       "      <td>A, e</td>\n",
       "      <td>08329918</td>\n",
       "    </tr>\n",
       "    <tr>\n",
       "      <th>...</th>\n",
       "      <td>...</td>\n",
       "      <td>...</td>\n",
       "      <td>...</td>\n",
       "    </tr>\n",
       "    <tr>\n",
       "      <th>2021-12-28 00:00:00+00:00</th>\n",
       "      <td>538.0</td>\n",
       "      <td>P</td>\n",
       "      <td>08329918</td>\n",
       "    </tr>\n",
       "    <tr>\n",
       "      <th>2021-12-29 00:00:00+00:00</th>\n",
       "      <td>625.0</td>\n",
       "      <td>P</td>\n",
       "      <td>08329918</td>\n",
       "    </tr>\n",
       "    <tr>\n",
       "      <th>2021-12-30 00:00:00+00:00</th>\n",
       "      <td>620.0</td>\n",
       "      <td>P</td>\n",
       "      <td>08329918</td>\n",
       "    </tr>\n",
       "    <tr>\n",
       "      <th>2021-12-31 00:00:00+00:00</th>\n",
       "      <td>541.0</td>\n",
       "      <td>P</td>\n",
       "      <td>08329918</td>\n",
       "    </tr>\n",
       "    <tr>\n",
       "      <th>2022-01-01 00:00:00+00:00</th>\n",
       "      <td>559.0</td>\n",
       "      <td>P</td>\n",
       "      <td>08329918</td>\n",
       "    </tr>\n",
       "  </tbody>\n",
       "</table>\n",
       "<p>366 rows × 3 columns</p>\n",
       "</div>"
      ],
      "text/plain": [
       "                           00060_Mean 00060_Mean_cd   site_no\n",
       "datetime                                                     \n",
       "2021-01-01 00:00:00+00:00       495.0          A, e  08329918\n",
       "2021-01-02 00:00:00+00:00       498.0          A, e  08329918\n",
       "2021-01-03 00:00:00+00:00       502.0          A, e  08329918\n",
       "2021-01-04 00:00:00+00:00       499.0          A, e  08329918\n",
       "2021-01-05 00:00:00+00:00       499.0          A, e  08329918\n",
       "...                               ...           ...       ...\n",
       "2021-12-28 00:00:00+00:00       538.0             P  08329918\n",
       "2021-12-29 00:00:00+00:00       625.0             P  08329918\n",
       "2021-12-30 00:00:00+00:00       620.0             P  08329918\n",
       "2021-12-31 00:00:00+00:00       541.0             P  08329918\n",
       "2022-01-01 00:00:00+00:00       559.0             P  08329918\n",
       "\n",
       "[366 rows x 3 columns]"
      ]
     },
     "execution_count": 6,
     "metadata": {},
     "output_type": "execute_result"
    }
   ],
   "source": [
    "# Import the functions for downloading data from NWIS\n",
    "import dataretrieval.nwis as nwis\n",
    "\n",
    "# Specify the USGS site code\n",
    "site = '08329918'\n",
    "\n",
    "# Get instantaneous values (iv)\n",
    "df = nwis.get_record(sites=site, service='dv', start='2021-01-01', end='2022-01-01')\n",
    "df"
   ]
  },
  {
   "cell_type": "code",
   "execution_count": 7,
   "id": "78cb0b28",
   "metadata": {},
   "outputs": [
    {
     "data": {
      "text/plain": [
       "<AxesSubplot:xlabel='datetime'>"
      ]
     },
     "execution_count": 7,
     "metadata": {},
     "output_type": "execute_result"
    },
    {
     "data": {
      "image/png": "[encoded data removed]",
      "text/plain": [
       "<Figure size 432x288 with 1 Axes>"
      ]
     },
     "metadata": {
      "needs_background": "light"
     },
     "output_type": "display_data"
    }
   ],
   "source": [
    "# Simple plot\n",
    "df['00060_Mean'].plot()"
   ]
  },
  {
   "cell_type": "markdown",
   "id": "b28b7c53",
   "metadata": {},
   "source": [
    "My plot shows the mean daily flow from the Rio Grande River where it meets Alameda Blvd in Albuquerque, NM for the year of 2021. The spike at the end of July 2021 represents a flash flood that occurred through much of Albuquerque. It killed three people on July 23, making it the deadliest single flash flood in the city's history. The flooding continued through the rest of the month and into August. \n",
    "\n",
    "https://www.usnews.com/news/best-states/new-mexico/articles/2021-07-23/albuquerque-official-3-dead-in-flash-flood-was-worst-ever"
   ]
  },
  {
   "cell_type": "markdown",
   "id": "45fe721d",
   "metadata": {},
   "source": [
    "**Question Two**"
   ]
  },
  {
   "cell_type": "code",
   "execution_count": 8,
   "id": "34b5ee4b",
   "metadata": {},
   "outputs": [],
   "source": [
    "# Specify the USGS site code\n",
    "# riogrande at alameda, willamette at portland, and southeplatte at englewood denver\n",
    "riogrande = '08329918'\n",
    "willamette = '14211720'\n",
    "splatte = '06711565'\n",
    "\n",
    "rivers = [riogrande, willamette, splatte]"
   ]
  },
  {
   "cell_type": "code",
   "execution_count": 9,
   "id": "f22597e1",
   "metadata": {},
   "outputs": [],
   "source": [
    "rg_df = nwis.get_record(sites=riogrande, service='dv', start='2020-10-31', end='2021-09-30')\n",
    "w_df = nwis.get_record(sites=willamette, service='dv', start='2020-10-31', end='2021-09-30')\n",
    "sp_df = nwis.get_record(sites=splatte, service='dv', start='2020-10-31', end='2021-09-30')\n",
    "\n",
    "rg_mean = rg_df['00060_Mean'].mean()\n",
    "w_mean = w_df['00060_Mean'].mean()\n",
    "sp_mean = sp_df['00060_Mean'].mean()\n",
    "\n",
    "rg_name = 'RIO GRANDE AT ALAMEDA BRIDGE AT ALAMEDA, NM'\n",
    "w_name = 'WILLAMETTE RIVER AT PORTLAND, OR'\n",
    "sp_name = 'SOUTH PLATTE RIVER AT ENGLEWOOD, CO.'"
   ]
  },
  {
   "cell_type": "code",
   "execution_count": 10,
   "id": "f1db0bb9",
   "metadata": {},
   "outputs": [
    {
     "name": "stdout",
     "output_type": "stream",
     "text": [
      "572.5405970149254 27817.34328358209 140.05671641791045\n"
     ]
    }
   ],
   "source": [
    "print(rg_mean, w_mean, sp_mean)"
   ]
  },
  {
   "cell_type": "markdown",
   "id": "2cce9157",
   "metadata": {},
   "source": [
    "<table>\n",
    "  <tr>\n",
    "    <th>site_no</th>\n",
    "    <th>name</th>\n",
    "    <th>mean_flow</th>\n",
    "  </tr>\n",
    "  <tr>\n",
    "    <td>08329918</td>\n",
    "    <td>RIO GRANDE AT ALAMEDA BRIDGE AT ALAMEDA, NM</td>\n",
    "    <td>572.54</td>\n",
    "  </tr>\n",
    "  <tr>\n",
    "    <td>14211720</td>\n",
    "    <td>WILLAMETTE RIVER AT PORTLAND, OR</td>\n",
    "    <td>27928.288</td>\n",
    "  </tr>\n",
    "    <tr>\n",
    "    <td>0671156</td>\n",
    "    <td>SOUTH PLATTE RIVER AT ENGLEWOOD, CO.</td>\n",
    "    <td>140.05</td>\n",
    "  </tr>\n",
    "</table>"
   ]
  },
  {
   "cell_type": "markdown",
   "id": "c6eb61c7",
   "metadata": {},
   "source": [
    "**Question Three**"
   ]
  },
  {
   "cell_type": "code",
   "execution_count": 11,
   "id": "9e328b2e",
   "metadata": {},
   "outputs": [],
   "source": [
    "# Import packages\n",
    "import numpy as np\n",
    "import pandas as pd\n",
    "import folium\n",
    "import re"
   ]
  },
  {
   "cell_type": "code",
   "execution_count": 12,
   "id": "94eaf7c4",
   "metadata": {},
   "outputs": [],
   "source": [
    "# Extract mountain data\n",
    "mountains = pd.read_html('https://en.wikipedia.org/wiki/List_of_mountain_peaks_of_Oregon')\n",
    "mountain_stats = mountains[1]\n",
    "mountain_stats['Location'] = mountain_stats['Location'].str.replace(mountain_stats['Location'].loc[0], \"45°22′25″N 121°41′45″W\\ufeff / \\ufeff45.3735°N 121.6959°W\", regex=True)"
   ]
  },
  {
   "cell_type": "code",
   "execution_count": 13,
   "id": "12b52ad3",
   "metadata": {},
   "outputs": [
    {
     "data": {
      "text/html": [
       "<div>\n",
       "<style scoped>\n",
       "    .dataframe tbody tr th:only-of-type {\n",
       "        vertical-align: middle;\n",
       "    }\n",
       "\n",
       "    .dataframe tbody tr th {\n",
       "        vertical-align: top;\n",
       "    }\n",
       "\n",
       "    .dataframe thead th {\n",
       "        text-align: right;\n",
       "    }\n",
       "</style>\n",
       "<table border=\"1\" class=\"dataframe\">\n",
       "  <thead>\n",
       "    <tr style=\"text-align: right;\">\n",
       "      <th></th>\n",
       "      <th>Rank</th>\n",
       "      <th>Mountain peak</th>\n",
       "      <th>Mountain range</th>\n",
       "      <th>Elevation</th>\n",
       "      <th>Prominence</th>\n",
       "      <th>Isolation</th>\n",
       "      <th>Location</th>\n",
       "    </tr>\n",
       "  </thead>\n",
       "  <tbody>\n",
       "    <tr>\n",
       "      <th>0</th>\n",
       "      <td>1</td>\n",
       "      <td>Mount Hood[6][7][8][9][a]</td>\n",
       "      <td>Cascade Range</td>\n",
       "      <td>3428.8 m</td>\n",
       "      <td>2349 m</td>\n",
       "      <td>92.2 km</td>\n",
       "      <td>45°22′25″N 121°41′45″W﻿ / ﻿45.3735°N 121.6959°W</td>\n",
       "    </tr>\n",
       "    <tr>\n",
       "      <th>1</th>\n",
       "      <td>2</td>\n",
       "      <td>Mount Jefferson[10][11][12][13][b]</td>\n",
       "      <td>Cascade Range</td>\n",
       "      <td>3201 m</td>\n",
       "      <td>1767 m</td>\n",
       "      <td>77.5 km</td>\n",
       "      <td>44°40′27″N 121°47′59″W﻿ / ﻿44.6743°N 121.7996°W</td>\n",
       "    </tr>\n",
       "    <tr>\n",
       "      <th>2</th>\n",
       "      <td>3</td>\n",
       "      <td>South Sister[14][15][16][17]</td>\n",
       "      <td>Cascade Range</td>\n",
       "      <td>3158.5 m</td>\n",
       "      <td>1705 m</td>\n",
       "      <td>63.4 km</td>\n",
       "      <td>44°06′13″N 121°46′09″W﻿ / ﻿44.1035°N 121.7693°W</td>\n",
       "    </tr>\n",
       "    <tr>\n",
       "      <th>3</th>\n",
       "      <td>4</td>\n",
       "      <td>North Sister[18][19][20][21][c]</td>\n",
       "      <td>Cascade Range</td>\n",
       "      <td>3075 m</td>\n",
       "      <td>837 m</td>\n",
       "      <td>7 km</td>\n",
       "      <td>44°10′00″N 121°46′20″W﻿ / ﻿44.1666°N 121.7723°W</td>\n",
       "    </tr>\n",
       "    <tr>\n",
       "      <th>4</th>\n",
       "      <td>5</td>\n",
       "      <td>Middle Sister[22][23][24][25][d]</td>\n",
       "      <td>Cascade Range</td>\n",
       "      <td>3064 m</td>\n",
       "      <td>382 m</td>\n",
       "      <td>1.8 km</td>\n",
       "      <td>44°08′54″N 121°47′02″W﻿ / ﻿44.1483°N 121.7840°W</td>\n",
       "    </tr>\n",
       "    <tr>\n",
       "      <th>5</th>\n",
       "      <td>6</td>\n",
       "      <td>Sacajawea Peak[26][27][28][e][f]</td>\n",
       "      <td>Wallowa Mountains</td>\n",
       "      <td>3000 m</td>\n",
       "      <td>1949 m</td>\n",
       "      <td>202 km</td>\n",
       "      <td>45°14′42″N 117°17′34″W﻿ / ﻿45.2450°N 117.2929°W</td>\n",
       "    </tr>\n",
       "  </tbody>\n",
       "</table>\n",
       "</div>"
      ],
      "text/plain": [
       "   Rank                       Mountain peak     Mountain range Elevation  \\\n",
       "0     1           Mount Hood[6][7][8][9][a]      Cascade Range  3428.8 m   \n",
       "1     2  Mount Jefferson[10][11][12][13][b]      Cascade Range    3201 m   \n",
       "2     3        South Sister[14][15][16][17]      Cascade Range  3158.5 m   \n",
       "3     4     North Sister[18][19][20][21][c]      Cascade Range    3075 m   \n",
       "4     5    Middle Sister[22][23][24][25][d]      Cascade Range    3064 m   \n",
       "5     6    Sacajawea Peak[26][27][28][e][f]  Wallowa Mountains    3000 m   \n",
       "\n",
       "  Prominence Isolation                                         Location  \n",
       "0     2349 m   92.2 km  45°22′25″N 121°41′45″W﻿ / ﻿45.3735°N 121.6959°W  \n",
       "1     1767 m   77.5 km  44°40′27″N 121°47′59″W﻿ / ﻿44.6743°N 121.7996°W  \n",
       "2     1705 m   63.4 km  44°06′13″N 121°46′09″W﻿ / ﻿44.1035°N 121.7693°W  \n",
       "3      837 m      7 km  44°10′00″N 121°46′20″W﻿ / ﻿44.1666°N 121.7723°W  \n",
       "4      382 m    1.8 km  44°08′54″N 121°47′02″W﻿ / ﻿44.1483°N 121.7840°W  \n",
       "5     1949 m    202 km  45°14′42″N 117°17′34″W﻿ / ﻿45.2450°N 117.2929°W  "
      ]
     },
     "execution_count": 13,
     "metadata": {},
     "output_type": "execute_result"
    }
   ],
   "source": [
    "# Return only mountains that have an elevation higher than 3000m\n",
    "\n",
    "index = 0\n",
    "tall_mountains = pd.DataFrame()\n",
    "\n",
    "for row in mountain_stats.iterrows():\n",
    "    \n",
    "    if float(re.findall(r'\\d+\\.?\\d', row[1][3])[0]) < 3000:\n",
    "        mountain_stats = mountain_stats.drop(index)\n",
    "        \n",
    "    index += 1\n",
    "\n",
    "mountain_stats"
   ]
  },
  {
   "cell_type": "code",
   "execution_count": 14,
   "id": "1dd5fe84",
   "metadata": {},
   "outputs": [
    {
     "data": {
      "text/plain": [
       "[(45.3735, -121.6959),\n",
       " (44.6743, -121.7996),\n",
       " (44.1035, -121.7693),\n",
       " (44.1666, -121.7723),\n",
       " (44.1483, -121.784),\n",
       " (45.245, -117.2929)]"
      ]
     },
     "execution_count": 14,
     "metadata": {},
     "output_type": "execute_result"
    }
   ],
   "source": [
    "# Get coordinates for these mountains\n",
    "coords = []\n",
    "for i in range(len(mountain_stats)):\n",
    "    lat = float(mountain_stats['Location'].iloc[i][27:34])\n",
    "    lon = float(mountain_stats['Location'].iloc[i][37:45]) * -1\n",
    "    coords.append((lat, lon))\n",
    "coords"
   ]
  },
  {
   "cell_type": "code",
   "execution_count": 15,
   "id": "bd52794f",
   "metadata": {},
   "outputs": [
    {
     "data": {
      "text/plain": [
       "[92.2, 77.5, 63.4, 7.0, 1.8, 202.0]"
      ]
     },
     "execution_count": 15,
     "metadata": {},
     "output_type": "execute_result"
    }
   ],
   "source": [
    "# Get isolation for these mountains\n",
    "isolation = []\n",
    "for i in range(len(mountain_stats)):\n",
    "    iso = float(mountain_stats['Isolation'].iloc[i][:-2])\n",
    "    isolation.append(iso)\n",
    "isolation"
   ]
  },
  {
   "cell_type": "code",
   "execution_count": 16,
   "id": "fa6caf2d",
   "metadata": {},
   "outputs": [
    {
     "data": {
      "text/plain": [
       "['Mount Hood',\n",
       " 'Mount Jefferson',\n",
       " 'South Sister',\n",
       " 'North Sister',\n",
       " 'Middle Sister',\n",
       " 'Sacajawea Peak']"
      ]
     },
     "execution_count": 16,
     "metadata": {},
     "output_type": "execute_result"
    }
   ],
   "source": [
    "# Get names of the mountains\n",
    "names = []\n",
    "for i in range(len(mountain_stats)):\n",
    "    name = str(re.findall(r'[a-zA-Z]+\\s[a-zA-Z]+', mountain_stats['Mountain peak'][i])[0])\n",
    "    names.append(name)\n",
    "names"
   ]
  },
  {
   "cell_type": "code",
   "execution_count": 17,
   "id": "d650797a",
   "metadata": {},
   "outputs": [
    {
     "data": {
      "text/html": [
       "<div style=\"width:100%;\"><div style=\"position:relative;width:100%;height:0;padding-bottom:60%;\"><span style=\"color:#565656\">Make this Notebook Trusted to load map: File -> Trust Notebook</span><iframe src=\"about:blank\" style=\"position:absolute;width:100%;height:100%;left:0;top:0;border:none !important;\" data-html=%3C%21DOCTYPE%20html%3E%0A%3Chead%3E%20%20%20%20%0A%20%20%20%20%3Cmeta%20http-equiv%3D%22content-type%22%20content%3D%22text/html%3B%20charset%3DUTF-8%22%20/%3E%0A%20%20%20%20%0A%20%20%20%20%20%20%20%20%3Cscript%3E%0A%20%20%20%20%20%20%20%20%20%20%20%20L_NO_TOUCH%20%3D%20false%3B%0A%20%20%20%20%20%20%20%20%20%20%20%20L_DISABLE_3D%20%3D%20false%3B%0A%20%20%20%20%20%20%20%20%3C/script%3E%0A%20%20%20%20%0A%20%20%20%20%3Cstyle%3Ehtml%2C%20body%20%7Bwidth%3A%20100%25%3Bheight%3A%20100%25%3Bmargin%3A%200%3Bpadding%3A%200%3B%7D%3C/style%3E%0A%20%20%20%20%3Cstyle%3E%23map%20%7Bposition%3Aabsolute%3Btop%3A0%3Bbottom%3A0%3Bright%3A0%3Bleft%3A0%3B%7D%3C/style%3E%0A%20%20%20%20%3Cscript%20src%3D%22https%3A//cdn.jsdelivr.net/npm/leaflet%401.6.0/dist/leaflet.js%22%3E%3C/script%3E%0A%20%20%20%20%3Cscript%20src%3D%22https%3A//code.jquery.com/jquery-1.12.4.min.js%22%3E%3C/script%3E%0A%20%20%20%20%3Cscript%20src%3D%22https%3A//maxcdn.bootstrapcdn.com/bootstrap/3.2.0/js/bootstrap.min.js%22%3E%3C/script%3E%0A%20%20%20%20%3Cscript%20src%3D%22https%3A//cdnjs.cloudflare.com/ajax/libs/Leaflet.awesome-markers/2.0.2/leaflet.awesome-markers.js%22%3E%3C/script%3E%0A%20%20%20%20%3Clink%20rel%3D%22stylesheet%22%20href%3D%22https%3A//cdn.jsdelivr.net/npm/leaflet%401.6.0/dist/leaflet.css%22/%3E%0A%20%20%20%20%3Clink%20rel%3D%22stylesheet%22%20href%3D%22https%3A//maxcdn.bootstrapcdn.com/bootstrap/3.2.0/css/bootstrap.min.css%22/%3E%0A%20%20%20%20%3Clink%20rel%3D%22stylesheet%22%20href%3D%22https%3A//maxcdn.bootstrapcdn.com/bootstrap/3.2.0/css/bootstrap-theme.min.css%22/%3E%0A%20%20%20%20%3Clink%20rel%3D%22stylesheet%22%20href%3D%22https%3A//maxcdn.bootstrapcdn.com/font-awesome/4.6.3/css/font-awesome.min.css%22/%3E%0A%20%20%20%20%3Clink%20rel%3D%22stylesheet%22%20href%3D%22https%3A//cdnjs.cloudflare.com/ajax/libs/Leaflet.awesome-markers/2.0.2/leaflet.awesome-markers.css%22/%3E%0A%20%20%20%20%3Clink%20rel%3D%22stylesheet%22%20href%3D%22https%3A//cdn.jsdelivr.net/gh/python-visualization/folium/folium/templates/leaflet.awesome.rotate.min.css%22/%3E%0A%20%20%20%20%0A%20%20%20%20%20%20%20%20%20%20%20%20%3Cmeta%20name%3D%22viewport%22%20content%3D%22width%3Ddevice-width%2C%0A%20%20%20%20%20%20%20%20%20%20%20%20%20%20%20%20initial-scale%3D1.0%2C%20maximum-scale%3D1.0%2C%20user-scalable%3Dno%22%20/%3E%0A%20%20%20%20%20%20%20%20%20%20%20%20%3Cstyle%3E%0A%20%20%20%20%20%20%20%20%20%20%20%20%20%20%20%20%23map_9a53871631fc4fd88e61c1994a4fa30c%20%7B%0A%20%20%20%20%20%20%20%20%20%20%20%20%20%20%20%20%20%20%20%20position%3A%20relative%3B%0A%20%20%20%20%20%20%20%20%20%20%20%20%20%20%20%20%20%20%20%20width%3A%20100.0%25%3B%0A%20%20%20%20%20%20%20%20%20%20%20%20%20%20%20%20%20%20%20%20height%3A%20100.0%25%3B%0A%20%20%20%20%20%20%20%20%20%20%20%20%20%20%20%20%20%20%20%20left%3A%200.0%25%3B%0A%20%20%20%20%20%20%20%20%20%20%20%20%20%20%20%20%20%20%20%20top%3A%200.0%25%3B%0A%20%20%20%20%20%20%20%20%20%20%20%20%20%20%20%20%7D%0A%20%20%20%20%20%20%20%20%20%20%20%20%3C/style%3E%0A%20%20%20%20%20%20%20%20%0A%3C/head%3E%0A%3Cbody%3E%20%20%20%20%0A%20%20%20%20%0A%20%20%20%20%20%20%20%20%20%20%20%20%3Cdiv%20class%3D%22folium-map%22%20id%3D%22map_9a53871631fc4fd88e61c1994a4fa30c%22%20%3E%3C/div%3E%0A%20%20%20%20%20%20%20%20%0A%3C/body%3E%0A%3Cscript%3E%20%20%20%20%0A%20%20%20%20%0A%20%20%20%20%20%20%20%20%20%20%20%20var%20map_9a53871631fc4fd88e61c1994a4fa30c%20%3D%20L.map%28%0A%20%20%20%20%20%20%20%20%20%20%20%20%20%20%20%20%22map_9a53871631fc4fd88e61c1994a4fa30c%22%2C%0A%20%20%20%20%20%20%20%20%20%20%20%20%20%20%20%20%7B%0A%20%20%20%20%20%20%20%20%20%20%20%20%20%20%20%20%20%20%20%20center%3A%20%5B44.0%2C%20-121.0%5D%2C%0A%20%20%20%20%20%20%20%20%20%20%20%20%20%20%20%20%20%20%20%20crs%3A%20L.CRS.EPSG3857%2C%0A%20%20%20%20%20%20%20%20%20%20%20%20%20%20%20%20%20%20%20%20zoom%3A%207%2C%0A%20%20%20%20%20%20%20%20%20%20%20%20%20%20%20%20%20%20%20%20zoomControl%3A%20true%2C%0A%20%20%20%20%20%20%20%20%20%20%20%20%20%20%20%20%20%20%20%20preferCanvas%3A%20false%2C%0A%20%20%20%20%20%20%20%20%20%20%20%20%20%20%20%20%7D%0A%20%20%20%20%20%20%20%20%20%20%20%20%29%3B%0A%0A%20%20%20%20%20%20%20%20%20%20%20%20%0A%0A%20%20%20%20%20%20%20%20%0A%20%20%20%20%0A%20%20%20%20%20%20%20%20%20%20%20%20var%20tile_layer_92bfc3351f0f41709c11611d4b445cf4%20%3D%20L.tileLayer%28%0A%20%20%20%20%20%20%20%20%20%20%20%20%20%20%20%20%22https%3A//%7Bs%7D.tile.openstreetmap.org/%7Bz%7D/%7Bx%7D/%7By%7D.png%22%2C%0A%20%20%20%20%20%20%20%20%20%20%20%20%20%20%20%20%7B%22attribution%22%3A%20%22Data%20by%20%5Cu0026copy%3B%20%5Cu003ca%20href%3D%5C%22http%3A//openstreetmap.org%5C%22%5Cu003eOpenStreetMap%5Cu003c/a%5Cu003e%2C%20under%20%5Cu003ca%20href%3D%5C%22http%3A//www.openstreetmap.org/copyright%5C%22%5Cu003eODbL%5Cu003c/a%5Cu003e.%22%2C%20%22detectRetina%22%3A%20false%2C%20%22maxNativeZoom%22%3A%2018%2C%20%22maxZoom%22%3A%2018%2C%20%22minZoom%22%3A%200%2C%20%22noWrap%22%3A%20false%2C%20%22opacity%22%3A%201%2C%20%22subdomains%22%3A%20%22abc%22%2C%20%22tms%22%3A%20false%7D%0A%20%20%20%20%20%20%20%20%20%20%20%20%29.addTo%28map_9a53871631fc4fd88e61c1994a4fa30c%29%3B%0A%20%20%20%20%20%20%20%20%0A%20%20%20%20%0A%20%20%20%20%20%20%20%20%20%20%20%20var%20marker_1b03e77e71614acfac7f9c142c0bab75%20%3D%20L.marker%28%0A%20%20%20%20%20%20%20%20%20%20%20%20%20%20%20%20%5B45.3735%2C%20-121.6959%5D%2C%0A%20%20%20%20%20%20%20%20%20%20%20%20%20%20%20%20%7B%7D%0A%20%20%20%20%20%20%20%20%20%20%20%20%29.addTo%28map_9a53871631fc4fd88e61c1994a4fa30c%29%3B%0A%20%20%20%20%20%20%20%20%0A%20%20%20%20%0A%20%20%20%20%20%20%20%20var%20popup_38352a7d14824141acf19b4158b36a0e%20%3D%20L.popup%28%7B%22maxWidth%22%3A%20%22100%25%22%7D%29%3B%0A%0A%20%20%20%20%20%20%20%20%0A%20%20%20%20%20%20%20%20%20%20%20%20var%20html_3dd39ce0df2242b48da27eeab3b2b556%20%3D%20%24%28%60%3Cdiv%20id%3D%22html_3dd39ce0df2242b48da27eeab3b2b556%22%20style%3D%22width%3A%20100.0%25%3B%20height%3A%20100.0%25%3B%22%3EMount%20Hood%3A%2092.2%3C/div%3E%60%29%5B0%5D%3B%0A%20%20%20%20%20%20%20%20%20%20%20%20popup_38352a7d14824141acf19b4158b36a0e.setContent%28html_3dd39ce0df2242b48da27eeab3b2b556%29%3B%0A%20%20%20%20%20%20%20%20%0A%0A%20%20%20%20%20%20%20%20marker_1b03e77e71614acfac7f9c142c0bab75.bindPopup%28popup_38352a7d14824141acf19b4158b36a0e%29%0A%20%20%20%20%20%20%20%20%3B%0A%0A%20%20%20%20%20%20%20%20%0A%20%20%20%20%0A%20%20%20%20%0A%20%20%20%20%20%20%20%20%20%20%20%20var%20marker_b0f381a077184ec387d72d7a0bf7eb76%20%3D%20L.marker%28%0A%20%20%20%20%20%20%20%20%20%20%20%20%20%20%20%20%5B44.6743%2C%20-121.7996%5D%2C%0A%20%20%20%20%20%20%20%20%20%20%20%20%20%20%20%20%7B%7D%0A%20%20%20%20%20%20%20%20%20%20%20%20%29.addTo%28map_9a53871631fc4fd88e61c1994a4fa30c%29%3B%0A%20%20%20%20%20%20%20%20%0A%20%20%20%20%0A%20%20%20%20%20%20%20%20var%20popup_0464224c4f464315b4163a5acc500f19%20%3D%20L.popup%28%7B%22maxWidth%22%3A%20%22100%25%22%7D%29%3B%0A%0A%20%20%20%20%20%20%20%20%0A%20%20%20%20%20%20%20%20%20%20%20%20var%20html_13ead2f952414e9bbb61f480a6d9c243%20%3D%20%24%28%60%3Cdiv%20id%3D%22html_13ead2f952414e9bbb61f480a6d9c243%22%20style%3D%22width%3A%20100.0%25%3B%20height%3A%20100.0%25%3B%22%3EMount%20Jefferson%3A%2077.5%3C/div%3E%60%29%5B0%5D%3B%0A%20%20%20%20%20%20%20%20%20%20%20%20popup_0464224c4f464315b4163a5acc500f19.setContent%28html_13ead2f952414e9bbb61f480a6d9c243%29%3B%0A%20%20%20%20%20%20%20%20%0A%0A%20%20%20%20%20%20%20%20marker_b0f381a077184ec387d72d7a0bf7eb76.bindPopup%28popup_0464224c4f464315b4163a5acc500f19%29%0A%20%20%20%20%20%20%20%20%3B%0A%0A%20%20%20%20%20%20%20%20%0A%20%20%20%20%0A%20%20%20%20%0A%20%20%20%20%20%20%20%20%20%20%20%20var%20marker_b69bbd3e7e784576ac1fa70d3fd79a3f%20%3D%20L.marker%28%0A%20%20%20%20%20%20%20%20%20%20%20%20%20%20%20%20%5B44.1035%2C%20-121.7693%5D%2C%0A%20%20%20%20%20%20%20%20%20%20%20%20%20%20%20%20%7B%7D%0A%20%20%20%20%20%20%20%20%20%20%20%20%29.addTo%28map_9a53871631fc4fd88e61c1994a4fa30c%29%3B%0A%20%20%20%20%20%20%20%20%0A%20%20%20%20%0A%20%20%20%20%20%20%20%20var%20popup_88ccd178a70f49f6a789acd2c0c87d45%20%3D%20L.popup%28%7B%22maxWidth%22%3A%20%22100%25%22%7D%29%3B%0A%0A%20%20%20%20%20%20%20%20%0A%20%20%20%20%20%20%20%20%20%20%20%20var%20html_3a0590ec8dd1427898c129026b70d274%20%3D%20%24%28%60%3Cdiv%20id%3D%22html_3a0590ec8dd1427898c129026b70d274%22%20style%3D%22width%3A%20100.0%25%3B%20height%3A%20100.0%25%3B%22%3ESouth%20Sister%3A%2063.4%3C/div%3E%60%29%5B0%5D%3B%0A%20%20%20%20%20%20%20%20%20%20%20%20popup_88ccd178a70f49f6a789acd2c0c87d45.setContent%28html_3a0590ec8dd1427898c129026b70d274%29%3B%0A%20%20%20%20%20%20%20%20%0A%0A%20%20%20%20%20%20%20%20marker_b69bbd3e7e784576ac1fa70d3fd79a3f.bindPopup%28popup_88ccd178a70f49f6a789acd2c0c87d45%29%0A%20%20%20%20%20%20%20%20%3B%0A%0A%20%20%20%20%20%20%20%20%0A%20%20%20%20%0A%20%20%20%20%0A%20%20%20%20%20%20%20%20%20%20%20%20var%20marker_63616cae408b476e8928a3571a37973c%20%3D%20L.marker%28%0A%20%20%20%20%20%20%20%20%20%20%20%20%20%20%20%20%5B44.1666%2C%20-121.7723%5D%2C%0A%20%20%20%20%20%20%20%20%20%20%20%20%20%20%20%20%7B%7D%0A%20%20%20%20%20%20%20%20%20%20%20%20%29.addTo%28map_9a53871631fc4fd88e61c1994a4fa30c%29%3B%0A%20%20%20%20%20%20%20%20%0A%20%20%20%20%0A%20%20%20%20%20%20%20%20var%20popup_e447e6b0e0ce4effaba5a592d07d5f2e%20%3D%20L.popup%28%7B%22maxWidth%22%3A%20%22100%25%22%7D%29%3B%0A%0A%20%20%20%20%20%20%20%20%0A%20%20%20%20%20%20%20%20%20%20%20%20var%20html_f8918cfbeb2449adb1db5b558352e39d%20%3D%20%24%28%60%3Cdiv%20id%3D%22html_f8918cfbeb2449adb1db5b558352e39d%22%20style%3D%22width%3A%20100.0%25%3B%20height%3A%20100.0%25%3B%22%3ENorth%20Sister%3A%207.0%3C/div%3E%60%29%5B0%5D%3B%0A%20%20%20%20%20%20%20%20%20%20%20%20popup_e447e6b0e0ce4effaba5a592d07d5f2e.setContent%28html_f8918cfbeb2449adb1db5b558352e39d%29%3B%0A%20%20%20%20%20%20%20%20%0A%0A%20%20%20%20%20%20%20%20marker_63616cae408b476e8928a3571a37973c.bindPopup%28popup_e447e6b0e0ce4effaba5a592d07d5f2e%29%0A%20%20%20%20%20%20%20%20%3B%0A%0A%20%20%20%20%20%20%20%20%0A%20%20%20%20%0A%20%20%20%20%0A%20%20%20%20%20%20%20%20%20%20%20%20var%20marker_e319bf6c14d548008d5b019fbdf8e5e0%20%3D%20L.marker%28%0A%20%20%20%20%20%20%20%20%20%20%20%20%20%20%20%20%5B44.1483%2C%20-121.784%5D%2C%0A%20%20%20%20%20%20%20%20%20%20%20%20%20%20%20%20%7B%7D%0A%20%20%20%20%20%20%20%20%20%20%20%20%29.addTo%28map_9a53871631fc4fd88e61c1994a4fa30c%29%3B%0A%20%20%20%20%20%20%20%20%0A%20%20%20%20%0A%20%20%20%20%20%20%20%20var%20popup_e24acc510eb4403981772d1c7dd3ee49%20%3D%20L.popup%28%7B%22maxWidth%22%3A%20%22100%25%22%7D%29%3B%0A%0A%20%20%20%20%20%20%20%20%0A%20%20%20%20%20%20%20%20%20%20%20%20var%20html_c8585d588d7c4903a434a9b444b146fc%20%3D%20%24%28%60%3Cdiv%20id%3D%22html_c8585d588d7c4903a434a9b444b146fc%22%20style%3D%22width%3A%20100.0%25%3B%20height%3A%20100.0%25%3B%22%3EMiddle%20Sister%3A%201.8%3C/div%3E%60%29%5B0%5D%3B%0A%20%20%20%20%20%20%20%20%20%20%20%20popup_e24acc510eb4403981772d1c7dd3ee49.setContent%28html_c8585d588d7c4903a434a9b444b146fc%29%3B%0A%20%20%20%20%20%20%20%20%0A%0A%20%20%20%20%20%20%20%20marker_e319bf6c14d548008d5b019fbdf8e5e0.bindPopup%28popup_e24acc510eb4403981772d1c7dd3ee49%29%0A%20%20%20%20%20%20%20%20%3B%0A%0A%20%20%20%20%20%20%20%20%0A%20%20%20%20%0A%20%20%20%20%0A%20%20%20%20%20%20%20%20%20%20%20%20var%20marker_d5316e7bae12495c86237f05d139cbf5%20%3D%20L.marker%28%0A%20%20%20%20%20%20%20%20%20%20%20%20%20%20%20%20%5B45.245%2C%20-117.2929%5D%2C%0A%20%20%20%20%20%20%20%20%20%20%20%20%20%20%20%20%7B%7D%0A%20%20%20%20%20%20%20%20%20%20%20%20%29.addTo%28map_9a53871631fc4fd88e61c1994a4fa30c%29%3B%0A%20%20%20%20%20%20%20%20%0A%20%20%20%20%0A%20%20%20%20%20%20%20%20var%20popup_9eebc106a7624730ae1d17d7657b51b8%20%3D%20L.popup%28%7B%22maxWidth%22%3A%20%22100%25%22%7D%29%3B%0A%0A%20%20%20%20%20%20%20%20%0A%20%20%20%20%20%20%20%20%20%20%20%20var%20html_f5d0fbaafad641c2922b2e4df6d75414%20%3D%20%24%28%60%3Cdiv%20id%3D%22html_f5d0fbaafad641c2922b2e4df6d75414%22%20style%3D%22width%3A%20100.0%25%3B%20height%3A%20100.0%25%3B%22%3ESacajawea%20Peak%3A%20202.0%3C/div%3E%60%29%5B0%5D%3B%0A%20%20%20%20%20%20%20%20%20%20%20%20popup_9eebc106a7624730ae1d17d7657b51b8.setContent%28html_f5d0fbaafad641c2922b2e4df6d75414%29%3B%0A%20%20%20%20%20%20%20%20%0A%0A%20%20%20%20%20%20%20%20marker_d5316e7bae12495c86237f05d139cbf5.bindPopup%28popup_9eebc106a7624730ae1d17d7657b51b8%29%0A%20%20%20%20%20%20%20%20%3B%0A%0A%20%20%20%20%20%20%20%20%0A%20%20%20%20%0A%3C/script%3E onload=\"this.contentDocument.open();this.contentDocument.write(    decodeURIComponent(this.getAttribute('data-html')));this.contentDocument.close();\" allowfullscreen webkitallowfullscreen mozallowfullscreen></iframe></div></div>"
      ],
      "text/plain": [
       "<folium.folium.Map at 0x1de66f90e80>"
      ]
     },
     "execution_count": 17,
     "metadata": {},
     "output_type": "execute_result"
    }
   ],
   "source": [
    "map = folium.Map(location=[44, -121], zoom_start=7)\n",
    "for i in range(0, len(coords)):\n",
    "    s = f'{names[i]}: {isolation[i]}'\n",
    "    folium.Marker(coords[i], popup=s).add_to(map)\n",
    "map"
   ]
  },
  {
   "cell_type": "markdown",
   "id": "112551ac",
   "metadata": {},
   "source": [
    "***Question Four***"
   ]
  },
  {
   "cell_type": "code",
   "execution_count": 105,
   "id": "aa1a04e1",
   "metadata": {},
   "outputs": [
    {
     "ename": "SyntaxError",
     "evalue": "invalid syntax (1517441071.py, line 3)",
     "output_type": "error",
     "traceback": [
      "\u001b[1;36m  File \u001b[1;32m\"C:\\Users\\sshul\\AppData\\Local\\Temp\\ipykernel_10072\\1517441071.py\"\u001b[1;36m, line \u001b[1;32m3\u001b[0m\n\u001b[1;33m    pip install selenium\u001b[0m\n\u001b[1;37m        ^\u001b[0m\n\u001b[1;31mSyntaxError\u001b[0m\u001b[1;31m:\u001b[0m invalid syntax\n"
     ]
    }
   ],
   "source": [
    "# Install webdriver_manager: https://github.com/SergeyPirogov/webdriver_manager\n",
    "!pip3 install webdriver_manager"
   ]
  },
  {
   "cell_type": "code",
   "execution_count": 18,
   "id": "c851cb27",
   "metadata": {},
   "outputs": [],
   "source": [
    "# Import packages\n",
    "from selenium import webdriver\n",
    "from selenium.webdriver.chrome.service import Service\n",
    "from selenium.webdriver.common.by import By\n",
    "from selenium.webdriver.support.ui import WebDriverWait \n",
    "from selenium.webdriver.support import expected_conditions as EC\n",
    "from webdriver_manager.chrome import ChromeDriverManager"
   ]
  },
  {
   "cell_type": "code",
   "execution_count": 19,
   "id": "86743aa7",
   "metadata": {},
   "outputs": [],
   "source": [
    "# Define addresses\n",
    "addys = ['1844 SW Morrison St, Portland, OR 97205', '800 Occidental Ave S, Seattle, WA 98134', \n",
    "         '1001 Stadium Dr, Inglewood, CA 90301', '2700 Martin Luther King Jr Blvd, Eugene, OR 97401']"
   ]
  },
  {
   "cell_type": "code",
   "execution_count": 41,
   "id": "fd8b6334",
   "metadata": {},
   "outputs": [
    {
     "name": "stderr",
     "output_type": "stream",
     "text": [
      "\n",
      "\n",
      "====== WebDriver manager ======\n"
     ]
    },
    {
     "name": "stdout",
     "output_type": "stream",
     "text": [
      "1844 SW Morrison St, Portland, OR 97205\n",
      "https://www.google.com/maps/place/1844 SW Morrison St, Portland, OR 97205 Oregon/\n"
     ]
    },
    {
     "name": "stderr",
     "output_type": "stream",
     "text": [
      "Current google-chrome version is 98.0.4758\n",
      "Get LATEST chromedriver version for 98.0.4758 google-chrome\n",
      "Trying to download new driver from https://chromedriver.storage.googleapis.com/98.0.4758.102/chromedriver_win32.zip\n",
      "Driver has been saved in cache [C:\\Users\\sshul\\.wdm\\drivers\\chromedriver\\win32\\98.0.4758.102]\n"
     ]
    },
    {
     "name": "stdout",
     "output_type": "stream",
     "text": [
      "https://www.google.com/maps/place/1844+SW+Morrison+St,+Portland,+OR+97205/@45.5216776,-122.693017,17z/data=!4m5!3m4!1s0x54950a1da0e05f85:0x84475d3324378445!8m2!3d45.5216776!4d-122.6908283\n",
      "45.5216776 -122.693017\n"
     ]
    },
    {
     "name": "stderr",
     "output_type": "stream",
     "text": [
      "\n",
      "\n",
      "====== WebDriver manager ======\n"
     ]
    },
    {
     "name": "stdout",
     "output_type": "stream",
     "text": [
      "800 Occidental Ave S, Seattle, WA 98134\n",
      "https://www.google.com/maps/place/800 Occidental Ave S, Seattle, WA 98134 Oregon/\n"
     ]
    },
    {
     "name": "stderr",
     "output_type": "stream",
     "text": [
      "Current google-chrome version is 98.0.4758\n",
      "Get LATEST chromedriver version for 98.0.4758 google-chrome\n",
      "Trying to download new driver from https://chromedriver.storage.googleapis.com/98.0.4758.102/chromedriver_win32.zip\n",
      "Driver has been saved in cache [C:\\Users\\sshul\\.wdm\\drivers\\chromedriver\\win32\\98.0.4758.102]\n"
     ]
    },
    {
     "name": "stdout",
     "output_type": "stream",
     "text": [
      "https://www.google.com/maps/place/Lumen+Field/@47.5951518,-122.3338281,17z/data=!4m5!3m4!1s0x54906aa3b9f1182b:0xa636cd513bba22dc!8m2!3d47.5951518!4d-122.3316394\n",
      "47.5951518 -122.3338281\n"
     ]
    },
    {
     "name": "stderr",
     "output_type": "stream",
     "text": [
      "\n",
      "\n",
      "====== WebDriver manager ======\n"
     ]
    },
    {
     "name": "stdout",
     "output_type": "stream",
     "text": [
      "1001 Stadium Dr, Inglewood, CA 90301\n",
      "https://www.google.com/maps/place/1001 Stadium Dr, Inglewood, CA 90301 Oregon/\n"
     ]
    },
    {
     "name": "stderr",
     "output_type": "stream",
     "text": [
      "Current google-chrome version is 98.0.4758\n",
      "Get LATEST chromedriver version for 98.0.4758 google-chrome\n",
      "Trying to download new driver from https://chromedriver.storage.googleapis.com/98.0.4758.102/chromedriver_win32.zip\n",
      "Driver has been saved in cache [C:\\Users\\sshul\\.wdm\\drivers\\chromedriver\\win32\\98.0.4758.102]\n"
     ]
    },
    {
     "name": "stdout",
     "output_type": "stream",
     "text": [
      "https://www.google.com/maps/place/SoFi+Stadium/@33.9534651,-118.3412283,17z/data=!4m5!3m4!1s0x80c2b786cbfb8f4f:0x5fb99cb7249e4170!8m2!3d33.9534651!4d-118.3390396\n",
      "33.9534651 -118.3412283\n"
     ]
    },
    {
     "name": "stderr",
     "output_type": "stream",
     "text": [
      "\n",
      "\n",
      "====== WebDriver manager ======\n"
     ]
    },
    {
     "name": "stdout",
     "output_type": "stream",
     "text": [
      "2700 Martin Luther King Jr Blvd, Eugene, OR 97401\n",
      "https://www.google.com/maps/place/2700 Martin Luther King Jr Blvd, Eugene, OR 97401 Oregon/\n"
     ]
    },
    {
     "name": "stderr",
     "output_type": "stream",
     "text": [
      "Current google-chrome version is 98.0.4758\n",
      "Get LATEST chromedriver version for 98.0.4758 google-chrome\n",
      "Trying to download new driver from https://chromedriver.storage.googleapis.com/98.0.4758.102/chromedriver_win32.zip\n",
      "Driver has been saved in cache [C:\\Users\\sshul\\.wdm\\drivers\\chromedriver\\win32\\98.0.4758.102]\n"
     ]
    },
    {
     "name": "stdout",
     "output_type": "stream",
     "text": [
      "https://www.google.com/maps/place/2700+Martin+Luther+King+Jr+Blvd,+Eugene,+OR+97401/@44.0594287,-123.0710918,17z/data=!4m5!3m4!1s0x54c0e1e26ad2697b:0xdfb621cc4e3608a2!8m2!3d44.0594287!4d-123.0689031\n",
      "44.0594287 -123.0710918\n"
     ]
    }
   ],
   "source": [
    "coords = []\n",
    "import time\n",
    "\n",
    "# Loop through every ski resort to find it's coordinates\n",
    "for place in addys:\n",
    "    print(place)\n",
    "    # Define URL to search in Google Maps and add 'Oregon' in for good measure\n",
    "    url = 'https://www.google.com/maps/place/' + place + ' Oregon/'\n",
    "    print(url)\n",
    "    # Import web driver and search for ski resorts\n",
    "    driver = webdriver.Chrome(service=Service(ChromeDriverManager().install()))\n",
    "    driver.get(url)\n",
    "      \n",
    "    # Click search\n",
    "    element = WebDriverWait(driver, 20).until(EC.element_to_be_clickable((By.ID, \"searchbox-searchbutton\")))\n",
    "    element.click()\n",
    "    time.sleep(2)\n",
    "    \n",
    "    # Make the web driver wait until the URL updates (i.e. contains the @ sign we're looking for)\n",
    "    WebDriverWait(driver, 20).until(EC.url_contains(\"@\"))\n",
    "    element.click()\n",
    "    time.sleep(2)\n",
    "    \n",
    "    # Retrieve the URL\n",
    "    link = driver.current_url\n",
    "    print(link)\n",
    "    \n",
    "    # Split string\n",
    "    lat, lon = link.rsplit('@', 1)[1].rsplit(',', 1)[0].rsplit(',', 1)\n",
    "    print(lat, lon)\n",
    "    \n",
    "    # Append to list\n",
    "    coords.append((lat, lon))\n",
    "    \n",
    "    # Close driver\n",
    "    driver.close()"
   ]
  },
  {
   "cell_type": "code",
   "execution_count": 42,
   "id": "8540cf0a",
   "metadata": {},
   "outputs": [
    {
     "data": {
      "text/plain": [
       "[('45.5216776', '-122.693017'),\n",
       " ('47.5951518', '-122.3338281'),\n",
       " ('33.9534651', '-118.3412283'),\n",
       " ('44.0594287', '-123.0710918')]"
      ]
     },
     "execution_count": 42,
     "metadata": {},
     "output_type": "execute_result"
    }
   ],
   "source": [
    "coords"
   ]
  },
  {
   "cell_type": "code",
   "execution_count": 44,
   "id": "440d0e92",
   "metadata": {},
   "outputs": [
    {
     "data": {
      "text/html": [
       "<div style=\"width:100%;\"><div style=\"position:relative;width:100%;height:0;padding-bottom:60%;\"><span style=\"color:#565656\">Make this Notebook Trusted to load map: File -> Trust Notebook</span><iframe src=\"about:blank\" style=\"position:absolute;width:100%;height:100%;left:0;top:0;border:none !important;\" data-html=%3C%21DOCTYPE%20html%3E%0A%3Chead%3E%20%20%20%20%0A%20%20%20%20%3Cmeta%20http-equiv%3D%22content-type%22%20content%3D%22text/html%3B%20charset%3DUTF-8%22%20/%3E%0A%20%20%20%20%0A%20%20%20%20%20%20%20%20%3Cscript%3E%0A%20%20%20%20%20%20%20%20%20%20%20%20L_NO_TOUCH%20%3D%20false%3B%0A%20%20%20%20%20%20%20%20%20%20%20%20L_DISABLE_3D%20%3D%20false%3B%0A%20%20%20%20%20%20%20%20%3C/script%3E%0A%20%20%20%20%0A%20%20%20%20%3Cstyle%3Ehtml%2C%20body%20%7Bwidth%3A%20100%25%3Bheight%3A%20100%25%3Bmargin%3A%200%3Bpadding%3A%200%3B%7D%3C/style%3E%0A%20%20%20%20%3Cstyle%3E%23map%20%7Bposition%3Aabsolute%3Btop%3A0%3Bbottom%3A0%3Bright%3A0%3Bleft%3A0%3B%7D%3C/style%3E%0A%20%20%20%20%3Cscript%20src%3D%22https%3A//cdn.jsdelivr.net/npm/leaflet%401.6.0/dist/leaflet.js%22%3E%3C/script%3E%0A%20%20%20%20%3Cscript%20src%3D%22https%3A//code.jquery.com/jquery-1.12.4.min.js%22%3E%3C/script%3E%0A%20%20%20%20%3Cscript%20src%3D%22https%3A//maxcdn.bootstrapcdn.com/bootstrap/3.2.0/js/bootstrap.min.js%22%3E%3C/script%3E%0A%20%20%20%20%3Cscript%20src%3D%22https%3A//cdnjs.cloudflare.com/ajax/libs/Leaflet.awesome-markers/2.0.2/leaflet.awesome-markers.js%22%3E%3C/script%3E%0A%20%20%20%20%3Clink%20rel%3D%22stylesheet%22%20href%3D%22https%3A//cdn.jsdelivr.net/npm/leaflet%401.6.0/dist/leaflet.css%22/%3E%0A%20%20%20%20%3Clink%20rel%3D%22stylesheet%22%20href%3D%22https%3A//maxcdn.bootstrapcdn.com/bootstrap/3.2.0/css/bootstrap.min.css%22/%3E%0A%20%20%20%20%3Clink%20rel%3D%22stylesheet%22%20href%3D%22https%3A//maxcdn.bootstrapcdn.com/bootstrap/3.2.0/css/bootstrap-theme.min.css%22/%3E%0A%20%20%20%20%3Clink%20rel%3D%22stylesheet%22%20href%3D%22https%3A//maxcdn.bootstrapcdn.com/font-awesome/4.6.3/css/font-awesome.min.css%22/%3E%0A%20%20%20%20%3Clink%20rel%3D%22stylesheet%22%20href%3D%22https%3A//cdnjs.cloudflare.com/ajax/libs/Leaflet.awesome-markers/2.0.2/leaflet.awesome-markers.css%22/%3E%0A%20%20%20%20%3Clink%20rel%3D%22stylesheet%22%20href%3D%22https%3A//cdn.jsdelivr.net/gh/python-visualization/folium/folium/templates/leaflet.awesome.rotate.min.css%22/%3E%0A%20%20%20%20%0A%20%20%20%20%20%20%20%20%20%20%20%20%3Cmeta%20name%3D%22viewport%22%20content%3D%22width%3Ddevice-width%2C%0A%20%20%20%20%20%20%20%20%20%20%20%20%20%20%20%20initial-scale%3D1.0%2C%20maximum-scale%3D1.0%2C%20user-scalable%3Dno%22%20/%3E%0A%20%20%20%20%20%20%20%20%20%20%20%20%3Cstyle%3E%0A%20%20%20%20%20%20%20%20%20%20%20%20%20%20%20%20%23map_68c65b09351145588687f2d4a06a72b2%20%7B%0A%20%20%20%20%20%20%20%20%20%20%20%20%20%20%20%20%20%20%20%20position%3A%20relative%3B%0A%20%20%20%20%20%20%20%20%20%20%20%20%20%20%20%20%20%20%20%20width%3A%20100.0%25%3B%0A%20%20%20%20%20%20%20%20%20%20%20%20%20%20%20%20%20%20%20%20height%3A%20100.0%25%3B%0A%20%20%20%20%20%20%20%20%20%20%20%20%20%20%20%20%20%20%20%20left%3A%200.0%25%3B%0A%20%20%20%20%20%20%20%20%20%20%20%20%20%20%20%20%20%20%20%20top%3A%200.0%25%3B%0A%20%20%20%20%20%20%20%20%20%20%20%20%20%20%20%20%7D%0A%20%20%20%20%20%20%20%20%20%20%20%20%3C/style%3E%0A%20%20%20%20%20%20%20%20%0A%3C/head%3E%0A%3Cbody%3E%20%20%20%20%0A%20%20%20%20%0A%20%20%20%20%20%20%20%20%20%20%20%20%3Cdiv%20class%3D%22folium-map%22%20id%3D%22map_68c65b09351145588687f2d4a06a72b2%22%20%3E%3C/div%3E%0A%20%20%20%20%20%20%20%20%0A%3C/body%3E%0A%3Cscript%3E%20%20%20%20%0A%20%20%20%20%0A%20%20%20%20%20%20%20%20%20%20%20%20var%20map_68c65b09351145588687f2d4a06a72b2%20%3D%20L.map%28%0A%20%20%20%20%20%20%20%20%20%20%20%20%20%20%20%20%22map_68c65b09351145588687f2d4a06a72b2%22%2C%0A%20%20%20%20%20%20%20%20%20%20%20%20%20%20%20%20%7B%0A%20%20%20%20%20%20%20%20%20%20%20%20%20%20%20%20%20%20%20%20center%3A%20%5B44.0%2C%20-121.0%5D%2C%0A%20%20%20%20%20%20%20%20%20%20%20%20%20%20%20%20%20%20%20%20crs%3A%20L.CRS.EPSG3857%2C%0A%20%20%20%20%20%20%20%20%20%20%20%20%20%20%20%20%20%20%20%20zoom%3A%201%2C%0A%20%20%20%20%20%20%20%20%20%20%20%20%20%20%20%20%20%20%20%20zoomControl%3A%20true%2C%0A%20%20%20%20%20%20%20%20%20%20%20%20%20%20%20%20%20%20%20%20preferCanvas%3A%20false%2C%0A%20%20%20%20%20%20%20%20%20%20%20%20%20%20%20%20%7D%0A%20%20%20%20%20%20%20%20%20%20%20%20%29%3B%0A%0A%20%20%20%20%20%20%20%20%20%20%20%20%0A%0A%20%20%20%20%20%20%20%20%0A%20%20%20%20%0A%20%20%20%20%20%20%20%20%20%20%20%20var%20tile_layer_4a4e5773f4554fbea0921b150b9340a2%20%3D%20L.tileLayer%28%0A%20%20%20%20%20%20%20%20%20%20%20%20%20%20%20%20%22https%3A//%7Bs%7D.tile.openstreetmap.org/%7Bz%7D/%7Bx%7D/%7By%7D.png%22%2C%0A%20%20%20%20%20%20%20%20%20%20%20%20%20%20%20%20%7B%22attribution%22%3A%20%22Data%20by%20%5Cu0026copy%3B%20%5Cu003ca%20href%3D%5C%22http%3A//openstreetmap.org%5C%22%5Cu003eOpenStreetMap%5Cu003c/a%5Cu003e%2C%20under%20%5Cu003ca%20href%3D%5C%22http%3A//www.openstreetmap.org/copyright%5C%22%5Cu003eODbL%5Cu003c/a%5Cu003e.%22%2C%20%22detectRetina%22%3A%20false%2C%20%22maxNativeZoom%22%3A%2018%2C%20%22maxZoom%22%3A%2018%2C%20%22minZoom%22%3A%200%2C%20%22noWrap%22%3A%20false%2C%20%22opacity%22%3A%201%2C%20%22subdomains%22%3A%20%22abc%22%2C%20%22tms%22%3A%20false%7D%0A%20%20%20%20%20%20%20%20%20%20%20%20%29.addTo%28map_68c65b09351145588687f2d4a06a72b2%29%3B%0A%20%20%20%20%20%20%20%20%0A%20%20%20%20%0A%20%20%20%20%20%20%20%20%20%20%20%20var%20marker_7e42050c28bb499eb40503c1ac818e9c%20%3D%20L.marker%28%0A%20%20%20%20%20%20%20%20%20%20%20%20%20%20%20%20%5B45.5216776%2C%20-122.693017%5D%2C%0A%20%20%20%20%20%20%20%20%20%20%20%20%20%20%20%20%7B%7D%0A%20%20%20%20%20%20%20%20%20%20%20%20%29.addTo%28map_68c65b09351145588687f2d4a06a72b2%29%3B%0A%20%20%20%20%20%20%20%20%0A%20%20%20%20%0A%20%20%20%20%20%20%20%20var%20popup_b8d5a3c2a28f4b15a7f9ef31315c3b0c%20%3D%20L.popup%28%7B%22maxWidth%22%3A%20%22100%25%22%7D%29%3B%0A%0A%20%20%20%20%20%20%20%20%0A%20%20%20%20%20%20%20%20%20%20%20%20var%20html_dc9ee8eeea3d40958e4a61bdb17fbd35%20%3D%20%24%28%60%3Cdiv%20id%3D%22html_dc9ee8eeea3d40958e4a61bdb17fbd35%22%20style%3D%22width%3A%20100.0%25%3B%20height%3A%20100.0%25%3B%22%3E1844%20SW%20Morrison%20St%2C%20Portland%2C%20OR%2097205%3C/div%3E%60%29%5B0%5D%3B%0A%20%20%20%20%20%20%20%20%20%20%20%20popup_b8d5a3c2a28f4b15a7f9ef31315c3b0c.setContent%28html_dc9ee8eeea3d40958e4a61bdb17fbd35%29%3B%0A%20%20%20%20%20%20%20%20%0A%0A%20%20%20%20%20%20%20%20marker_7e42050c28bb499eb40503c1ac818e9c.bindPopup%28popup_b8d5a3c2a28f4b15a7f9ef31315c3b0c%29%0A%20%20%20%20%20%20%20%20%3B%0A%0A%20%20%20%20%20%20%20%20%0A%20%20%20%20%0A%20%20%20%20%0A%20%20%20%20%20%20%20%20%20%20%20%20var%20marker_cd270e4bfc7c4b25b9fc86c9916f1fe1%20%3D%20L.marker%28%0A%20%20%20%20%20%20%20%20%20%20%20%20%20%20%20%20%5B47.5951518%2C%20-122.3338281%5D%2C%0A%20%20%20%20%20%20%20%20%20%20%20%20%20%20%20%20%7B%7D%0A%20%20%20%20%20%20%20%20%20%20%20%20%29.addTo%28map_68c65b09351145588687f2d4a06a72b2%29%3B%0A%20%20%20%20%20%20%20%20%0A%20%20%20%20%0A%20%20%20%20%20%20%20%20var%20popup_91fb15caaa6d4b72b793d09f1f0c5ab8%20%3D%20L.popup%28%7B%22maxWidth%22%3A%20%22100%25%22%7D%29%3B%0A%0A%20%20%20%20%20%20%20%20%0A%20%20%20%20%20%20%20%20%20%20%20%20var%20html_5209638301224fb18805944c3d9ea8ab%20%3D%20%24%28%60%3Cdiv%20id%3D%22html_5209638301224fb18805944c3d9ea8ab%22%20style%3D%22width%3A%20100.0%25%3B%20height%3A%20100.0%25%3B%22%3E800%20Occidental%20Ave%20S%2C%20Seattle%2C%20WA%2098134%3C/div%3E%60%29%5B0%5D%3B%0A%20%20%20%20%20%20%20%20%20%20%20%20popup_91fb15caaa6d4b72b793d09f1f0c5ab8.setContent%28html_5209638301224fb18805944c3d9ea8ab%29%3B%0A%20%20%20%20%20%20%20%20%0A%0A%20%20%20%20%20%20%20%20marker_cd270e4bfc7c4b25b9fc86c9916f1fe1.bindPopup%28popup_91fb15caaa6d4b72b793d09f1f0c5ab8%29%0A%20%20%20%20%20%20%20%20%3B%0A%0A%20%20%20%20%20%20%20%20%0A%20%20%20%20%0A%20%20%20%20%0A%20%20%20%20%20%20%20%20%20%20%20%20var%20marker_55a465c7c4844996afa0d57fa1846184%20%3D%20L.marker%28%0A%20%20%20%20%20%20%20%20%20%20%20%20%20%20%20%20%5B33.9534651%2C%20-118.3412283%5D%2C%0A%20%20%20%20%20%20%20%20%20%20%20%20%20%20%20%20%7B%7D%0A%20%20%20%20%20%20%20%20%20%20%20%20%29.addTo%28map_68c65b09351145588687f2d4a06a72b2%29%3B%0A%20%20%20%20%20%20%20%20%0A%20%20%20%20%0A%20%20%20%20%20%20%20%20var%20popup_50c239de8ced4fe4abec0da9c1addf6e%20%3D%20L.popup%28%7B%22maxWidth%22%3A%20%22100%25%22%7D%29%3B%0A%0A%20%20%20%20%20%20%20%20%0A%20%20%20%20%20%20%20%20%20%20%20%20var%20html_fa708f854ee646a4843f0613f93acc0e%20%3D%20%24%28%60%3Cdiv%20id%3D%22html_fa708f854ee646a4843f0613f93acc0e%22%20style%3D%22width%3A%20100.0%25%3B%20height%3A%20100.0%25%3B%22%3E1001%20Stadium%20Dr%2C%20Inglewood%2C%20CA%2090301%3C/div%3E%60%29%5B0%5D%3B%0A%20%20%20%20%20%20%20%20%20%20%20%20popup_50c239de8ced4fe4abec0da9c1addf6e.setContent%28html_fa708f854ee646a4843f0613f93acc0e%29%3B%0A%20%20%20%20%20%20%20%20%0A%0A%20%20%20%20%20%20%20%20marker_55a465c7c4844996afa0d57fa1846184.bindPopup%28popup_50c239de8ced4fe4abec0da9c1addf6e%29%0A%20%20%20%20%20%20%20%20%3B%0A%0A%20%20%20%20%20%20%20%20%0A%20%20%20%20%0A%20%20%20%20%0A%20%20%20%20%20%20%20%20%20%20%20%20var%20marker_ec5de3502b934cd6b125eb6ef6712159%20%3D%20L.marker%28%0A%20%20%20%20%20%20%20%20%20%20%20%20%20%20%20%20%5B44.0594287%2C%20-123.0710918%5D%2C%0A%20%20%20%20%20%20%20%20%20%20%20%20%20%20%20%20%7B%7D%0A%20%20%20%20%20%20%20%20%20%20%20%20%29.addTo%28map_68c65b09351145588687f2d4a06a72b2%29%3B%0A%20%20%20%20%20%20%20%20%0A%20%20%20%20%0A%20%20%20%20%20%20%20%20var%20popup_afaf1ad666c7465d96503476c72259b2%20%3D%20L.popup%28%7B%22maxWidth%22%3A%20%22100%25%22%7D%29%3B%0A%0A%20%20%20%20%20%20%20%20%0A%20%20%20%20%20%20%20%20%20%20%20%20var%20html_c905168201514435a39180ded3af6136%20%3D%20%24%28%60%3Cdiv%20id%3D%22html_c905168201514435a39180ded3af6136%22%20style%3D%22width%3A%20100.0%25%3B%20height%3A%20100.0%25%3B%22%3E2700%20Martin%20Luther%20King%20Jr%20Blvd%2C%20Eugene%2C%20OR%2097401%3C/div%3E%60%29%5B0%5D%3B%0A%20%20%20%20%20%20%20%20%20%20%20%20popup_afaf1ad666c7465d96503476c72259b2.setContent%28html_c905168201514435a39180ded3af6136%29%3B%0A%20%20%20%20%20%20%20%20%0A%0A%20%20%20%20%20%20%20%20marker_ec5de3502b934cd6b125eb6ef6712159.bindPopup%28popup_afaf1ad666c7465d96503476c72259b2%29%0A%20%20%20%20%20%20%20%20%3B%0A%0A%20%20%20%20%20%20%20%20%0A%20%20%20%20%0A%3C/script%3E onload=\"this.contentDocument.open();this.contentDocument.write(    decodeURIComponent(this.getAttribute('data-html')));this.contentDocument.close();\" allowfullscreen webkitallowfullscreen mozallowfullscreen></iframe></div></div>"
      ],
      "text/plain": [
       "<folium.folium.Map at 0x1de68871a00>"
      ]
     },
     "execution_count": 44,
     "metadata": {},
     "output_type": "execute_result"
    }
   ],
   "source": [
    "map = folium.Map(location=[44, -121], zoom_start=1)\n",
    "for i in range(0, len(coords)):\n",
    "    folium.Marker(coords[i], popup=addys[i]).add_to(map)\n",
    "map"
   ]
  },
  {
   "cell_type": "markdown",
   "id": "96aa5277",
   "metadata": {},
   "source": [
    "***Question Five***"
   ]
  },
  {
   "cell_type": "code",
   "execution_count": 23,
   "id": "f257e6ae",
   "metadata": {},
   "outputs": [],
   "source": [
    "# Import package\n",
    "import xarray as xr\n",
    "\n",
    "# Define filepath\n",
    "fp = r'C:\\Users\\sshul\\Documents\\GitHub\\geospatial-data-science\\labs\\lab7\\lab7'\n",
    "\n",
    "# Read data\n",
    "xds = xr.open_dataset(fp + '\\era_monthly_snowfall_2020.nc', decode_coords='all')"
   ]
  },
  {
   "cell_type": "code",
   "execution_count": 25,
   "id": "4202e9ed",
   "metadata": {},
   "outputs": [],
   "source": [
    "# Define locations\n",
    "mountains = ['Mount Ashland', 'Willamette Pass Oregon', 'Hoodoo Oregon']"
   ]
  },
  {
   "cell_type": "code",
   "execution_count": 26,
   "id": "ea5f3be1",
   "metadata": {
    "scrolled": true
   },
   "outputs": [
    {
     "name": "stderr",
     "output_type": "stream",
     "text": [
      "\n",
      "\n",
      "====== WebDriver manager ======\n",
      "Current google-chrome version is 98.0.4758\n",
      "Get LATEST chromedriver version for 98.0.4758 google-chrome\n",
      "Trying to download new driver from https://chromedriver.storage.googleapis.com/98.0.4758.102/chromedriver_win32.zip\n",
      "Driver has been saved in cache [C:\\Users\\sshul\\.wdm\\drivers\\chromedriver\\win32\\98.0.4758.102]\n",
      "\n",
      "\n",
      "====== WebDriver manager ======\n",
      "Current google-chrome version is 98.0.4758\n",
      "Get LATEST chromedriver version for 98.0.4758 google-chrome\n",
      "Trying to download new driver from https://chromedriver.storage.googleapis.com/98.0.4758.102/chromedriver_win32.zip\n",
      "Driver has been saved in cache [C:\\Users\\sshul\\.wdm\\drivers\\chromedriver\\win32\\98.0.4758.102]\n",
      "\n",
      "\n",
      "====== WebDriver manager ======\n",
      "Current google-chrome version is 98.0.4758\n",
      "Get LATEST chromedriver version for 98.0.4758 google-chrome\n",
      "Trying to download new driver from https://chromedriver.storage.googleapis.com/98.0.4758.102/chromedriver_win32.zip\n",
      "Driver has been saved in cache [C:\\Users\\sshul\\.wdm\\drivers\\chromedriver\\win32\\98.0.4758.102]\n"
     ]
    }
   ],
   "source": [
    "coordss = []\n",
    "\n",
    "# Loop through every ski resort to find it's coordinates\n",
    "for place in mountains:\n",
    "       \n",
    "    # Define URL to search in Google Maps and add 'Oregon' in for good measure\n",
    "    url = 'https://www.google.com/maps/place/' + place + ' Oregon/'\n",
    "    \n",
    "    # Import web driver and search for ski resorts\n",
    "    driver = webdriver.Chrome(service=Service(ChromeDriverManager().install()))\n",
    "    driver.get(url)\n",
    "      \n",
    "    # Click search\n",
    "    element = WebDriverWait(driver, 20).until(EC.element_to_be_clickable((By.ID, \"searchbox-searchbutton\")))\n",
    "    element.click()\n",
    "    \n",
    "    # Make the web driver wait until the URL updates (i.e. contains the @ sign we're looking for)\n",
    "    WebDriverWait(driver, 20).until(EC.url_contains(\"@\"))\n",
    "    \n",
    "    # Retrieve the URL\n",
    "    link = driver.current_url\n",
    "    \n",
    "    # Split string\n",
    "    lat, lon = link.rsplit('@', 1)[1].rsplit(',', 1)[0].rsplit(',', 1)\n",
    "    \n",
    "    # Append to list\n",
    "    coordss.append((lat, lon))\n",
    "    \n",
    "    # Close driver\n",
    "    driver.close()"
   ]
  },
  {
   "cell_type": "code",
   "execution_count": 64,
   "id": "16821b54",
   "metadata": {},
   "outputs": [
    {
     "data": {
      "text/plain": [
       "[<xarray.Dataset>\n",
       " Dimensions:    ()\n",
       " Coordinates:\n",
       "     longitude  float32 -122.8\n",
       "     latitude   float32 42.0\n",
       " Data variables:\n",
       "     sf         float32 0.009229,\n",
       " <xarray.Dataset>\n",
       " Dimensions:    ()\n",
       " Coordinates:\n",
       "     longitude  float32 -122.0\n",
       "     latitude   float32 43.5\n",
       " Data variables:\n",
       "     sf         float32 0.01964,\n",
       " <xarray.Dataset>\n",
       " Dimensions:    ()\n",
       " Coordinates:\n",
       "     longitude  float32 -123.0\n",
       "     latitude   float32 44.0\n",
       " Data variables:\n",
       "     sf         float32 0.0007187]"
      ]
     },
     "execution_count": 64,
     "metadata": {},
     "output_type": "execute_result"
    }
   ],
   "source": [
    "i = 0\n",
    "sums = []\n",
    "for i in range(len(coordss)):\n",
    "    lat = coordss[i][0] #round(float(coordss[i][0])*4)/4\n",
    "    lon = coordss[i][1]\n",
    "    loc = xds.sel(longitude=lon, latitude=lat, method='nearest')\n",
    "    sm = loc.sum(dim = 'time')\n",
    "    sums.append(sm)\n",
    "sums"
   ]
  },
  {
   "cell_type": "markdown",
   "id": "03aad26f",
   "metadata": {},
   "source": [
    "The place that got the most snowfall in 2020 was Willamette Pass."
   ]
  },
  {
   "cell_type": "code",
   "execution_count": null,
   "id": "735b245a",
   "metadata": {},
   "outputs": [],
   "source": []
  }
 ],
 "metadata": {
  "kernelspec": {
   "display_name": "Python 3 (ipykernel)",
   "language": "python",
   "name": "python3"
  },
  "language_info": {
   "codemirror_mode": {
    "name": "ipython",
    "version": 3
   },
   "file_extension": ".py",
   "mimetype": "text/x-python",
   "name": "python",
   "nbconvert_exporter": "python",
   "pygments_lexer": "ipython3",
   "version": "3.8.12"
  }
 },
 "nbformat": 4,
 "nbformat_minor": 5
}
